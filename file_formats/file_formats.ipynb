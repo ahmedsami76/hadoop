{
 "cells": [
  {
   "cell_type": "markdown",
   "id": "0c3cba32-4bf7-4bd9-a3ca-4b097aafebbe",
   "metadata": {},
   "source": [
    "# File Formats"
   ]
  },
  {
   "cell_type": "markdown",
   "id": "2e7efbc9-9ed3-4f75-971a-d1ffe4ce7983",
   "metadata": {
    "jp-MarkdownHeadingCollapsed": true
   },
   "source": [
    "## DELIMITED"
   ]
  },
  {
   "cell_type": "markdown",
   "id": "f723e8dc-b25e-466d-8697-f98d6f2fb419",
   "metadata": {},
   "source": [
    "* Comma\n",
    "* Tab\n",
    "* Colon\n",
    "* etc.."
   ]
  },
  {
   "cell_type": "code",
   "execution_count": 10,
   "id": "5d103db5-2a84-4e66-a6fc-0722b54d47d2",
   "metadata": {},
   "outputs": [
    {
     "data": {
      "text/html": [
       "<div>\n",
       "<style scoped>\n",
       "    .dataframe tbody tr th:only-of-type {\n",
       "        vertical-align: middle;\n",
       "    }\n",
       "\n",
       "    .dataframe tbody tr th {\n",
       "        vertical-align: top;\n",
       "    }\n",
       "\n",
       "    .dataframe thead th {\n",
       "        text-align: right;\n",
       "    }\n",
       "</style>\n",
       "<table border=\"1\" class=\"dataframe\">\n",
       "  <thead>\n",
       "    <tr style=\"text-align: right;\">\n",
       "      <th></th>\n",
       "      <th>Trip ID</th>\n",
       "      <th>Duration</th>\n",
       "      <th>Start Date</th>\n",
       "      <th>Start Station</th>\n",
       "      <th>Start Terminal</th>\n",
       "      <th>End Date</th>\n",
       "      <th>End Station</th>\n",
       "      <th>End Terminal</th>\n",
       "      <th>Bike #</th>\n",
       "      <th>Subscriber Type</th>\n",
       "      <th>Zip Code</th>\n",
       "    </tr>\n",
       "  </thead>\n",
       "  <tbody>\n",
       "    <tr>\n",
       "      <th>0</th>\n",
       "      <td>913460</td>\n",
       "      <td>765</td>\n",
       "      <td>8/31/2015 23:26</td>\n",
       "      <td>Harry Bridges Plaza (Ferry Building)</td>\n",
       "      <td>50</td>\n",
       "      <td>8/31/2015 23:39</td>\n",
       "      <td>San Francisco Caltrain (Townsend at 4th)</td>\n",
       "      <td>70</td>\n",
       "      <td>288</td>\n",
       "      <td>Subscriber</td>\n",
       "      <td>2139</td>\n",
       "    </tr>\n",
       "    <tr>\n",
       "      <th>1</th>\n",
       "      <td>913459</td>\n",
       "      <td>1036</td>\n",
       "      <td>8/31/2015 23:11</td>\n",
       "      <td>San Antonio Shopping Center</td>\n",
       "      <td>31</td>\n",
       "      <td>8/31/2015 23:28</td>\n",
       "      <td>Mountain View City Hall</td>\n",
       "      <td>27</td>\n",
       "      <td>35</td>\n",
       "      <td>Subscriber</td>\n",
       "      <td>95032</td>\n",
       "    </tr>\n",
       "    <tr>\n",
       "      <th>2</th>\n",
       "      <td>913455</td>\n",
       "      <td>307</td>\n",
       "      <td>8/31/2015 23:13</td>\n",
       "      <td>Post at Kearny</td>\n",
       "      <td>47</td>\n",
       "      <td>8/31/2015 23:18</td>\n",
       "      <td>2nd at South Park</td>\n",
       "      <td>64</td>\n",
       "      <td>468</td>\n",
       "      <td>Subscriber</td>\n",
       "      <td>94107</td>\n",
       "    </tr>\n",
       "  </tbody>\n",
       "</table>\n",
       "</div>"
      ],
      "text/plain": [
       "   Trip ID  Duration       Start Date                         Start Station  \\\n",
       "0   913460       765  8/31/2015 23:26  Harry Bridges Plaza (Ferry Building)   \n",
       "1   913459      1036  8/31/2015 23:11           San Antonio Shopping Center   \n",
       "2   913455       307  8/31/2015 23:13                        Post at Kearny   \n",
       "\n",
       "   Start Terminal         End Date                               End Station  \\\n",
       "0              50  8/31/2015 23:39  San Francisco Caltrain (Townsend at 4th)   \n",
       "1              31  8/31/2015 23:28                   Mountain View City Hall   \n",
       "2              47  8/31/2015 23:18                         2nd at South Park   \n",
       "\n",
       "   End Terminal  Bike # Subscriber Type  Zip Code  \n",
       "0            70     288      Subscriber      2139  \n",
       "1            27      35      Subscriber     95032  \n",
       "2            64     468      Subscriber     94107  "
      ]
     },
     "execution_count": 10,
     "metadata": {},
     "output_type": "execute_result"
    }
   ],
   "source": [
    "import pandas as pd\n",
    "\n",
    "# Specify the path to your CSV file\n",
    "json_file_path = \"trimmed/trips_trimmed.csv\"\n",
    "\n",
    "# Load the JSON data into a DataFrame\n",
    "df = pd.read_csv(json_file_path)\n",
    "\n",
    "# Display the DataFrame\n",
    "df"
   ]
  },
  {
   "cell_type": "markdown",
   "id": "300dfc19-9849-4402-a32b-673f6583a07b",
   "metadata": {
    "jp-MarkdownHeadingCollapsed": true
   },
   "source": [
    "## XML "
   ]
  },
  {
   "cell_type": "markdown",
   "id": "4729cd37-2e1d-4be7-b124-017f8aef84b9",
   "metadata": {},
   "source": [
    "**eXtensible Markup Language**\n",
    "* Store and transport data but doesn't present it\n",
    "* Public standard developed by W3C\n",
    "* Human and Machine-readable"
   ]
  },
  {
   "cell_type": "markdown",
   "id": "4261cf7d-fcc1-4dd3-9dad-d42c7ca6e94b",
   "metadata": {},
   "source": [
    "```xml\n",
    "<message>\n",
    "    <text>Hello, world!</text>\n",
    "</message>\n",
    "```"
   ]
  },
  {
   "cell_type": "markdown",
   "id": "f676db94-ed61-45fd-85f6-1eb7df5f2b68",
   "metadata": {},
   "source": [
    "```xml\n",
    "<?xml version = \"1.0\"?>\n",
    "<contact-info>\n",
    "   <name>Ahmed Sami</name>\n",
    "   <company>henak</company>\n",
    "   <phone>(011) 123-4567</phone>\n",
    "</contact-info>\n",
    "```"
   ]
  },
  {
   "cell_type": "markdown",
   "id": "6c07007b-e198-43c4-b0f5-2796d2a7821d",
   "metadata": {},
   "source": [
    "![](./images/syntaxrules.png)"
   ]
  },
  {
   "cell_type": "markdown",
   "id": "cd0cac6a-663b-45f2-9299-0c5467c3fea8",
   "metadata": {},
   "source": [
    "### XML Declaration"
   ]
  },
  {
   "cell_type": "markdown",
   "id": "f03c70fc-5669-4603-ad8c-0371cd8e2382",
   "metadata": {},
   "source": [
    "<?xml version = \"1.0\" encoding = \"UTF-8\"?>"
   ]
  },
  {
   "cell_type": "markdown",
   "id": "0e49eb81-bc3a-476b-8063-20da73d1fcf9",
   "metadata": {},
   "source": [
    "### Syntax Rules for XML Declaration"
   ]
  },
  {
   "cell_type": "markdown",
   "id": "2c1dc34d-cad8-4d7a-b7ed-8eaff0850489",
   "metadata": {},
   "source": [
    "* The XML declaration is case sensitive and must begin with \"<?xml>\" where \"xml\" is written in lower-case.\n",
    "* If document contains XML declaration, then it strictly needs to be the first statement of the XML document.\n",
    "* The XML declaration strictly needs be the first statement in the XML document.\n",
    "* An HTTP protocol can override the value of encoding that you put in the XML declaration.\n"
   ]
  },
  {
   "cell_type": "markdown",
   "id": "71b7c8d0-59f0-4c37-845b-cb145354197c",
   "metadata": {},
   "source": [
    "**Tags and Elements**  \n",
    "\n",
    "An XML file is structured by several XML-elements, also called XML-nodes or XML-tags. The names of XML-elements are enclosed in triangular brackets < > as shown below −  \n",
    "`<element>`  \n",
    "Syntax Rules for Tags and Elements  \n",
    "Element Syntax − Each XML-element needs to be closed either with start or with end elements as shown below −  \n",
    "`<element>....</element>`  \n",
    "or in simple-cases, just this way −  \n",
    "`<element/>`"
   ]
  },
  {
   "cell_type": "markdown",
   "id": "540acd78-3999-4398-bd87-8dda2d2ac9cb",
   "metadata": {},
   "source": [
    "**Nesting of Elements**  \n",
    "An XML-element can contain multiple XML-elements as its children, but the children elements must not overlap. i.e., an end tag of an element must have the same name as that of the most recent unmatched start tag."
   ]
  },
  {
   "cell_type": "markdown",
   "id": "8a96bd1c-ba6b-49d5-aa9e-dbc775aa5a70",
   "metadata": {},
   "source": [
    "**Root Element**  \n",
    "An XML document can have only one root element. For example, following is not a correct XML document, because both the x and y elements occur at the top level without a root element"
   ]
  },
  {
   "cell_type": "markdown",
   "id": "ad481429-03af-4900-8297-05221aabf783",
   "metadata": {},
   "source": [
    "**Case Sensitivity**  \n",
    "The names of XML-elements are case-sensitive. That means the name of the start and the end elements need to be exactly in the same case"
   ]
  },
  {
   "cell_type": "markdown",
   "id": "ecb945e4-51b1-48d6-a0a9-b4cab4b30863",
   "metadata": {},
   "source": [
    "**XML Attributes**  \n",
    "\n",
    "An attribute specifies a single property for the element, using a name/value pair. An XML-element can have one or more attributes. For example:  \n",
    "`<a href = \"http://www.sayedkabaka.com/\">United States of Talbiya!</a>  `  \n",
    "Here href is the attribute name and http://www.sayedkabaka.com/ is attribute value."
   ]
  },
  {
   "cell_type": "markdown",
   "id": "6c7d5eb3-1f04-4b2f-a2da-675843ad7c32",
   "metadata": {},
   "source": [
    "**XML declaration**  \n",
    "```xml\n",
    "<?xml\n",
    "   version = \"version_number\"\n",
    "   encoding = \"encoding_declaration\"\n",
    "   standalone = \"standalone_status\"\n",
    "?>\n",
    "```"
   ]
  },
  {
   "cell_type": "markdown",
   "id": "0af1c259-73ce-46f9-af97-593ea476817b",
   "metadata": {},
   "source": [
    "**XML Comments**   \n",
    "`<!--Students grades are uploaded by months-->`"
   ]
  },
  {
   "cell_type": "markdown",
   "id": "fd383de7-3a4e-4fc9-8e88-2c614c10cfd1",
   "metadata": {},
   "source": [
    "### Parse XML using Python"
   ]
  },
  {
   "cell_type": "code",
   "execution_count": 5,
   "id": "12b652e2-165e-4153-b880-7342c6f52efe",
   "metadata": {},
   "outputs": [
    {
     "data": {
      "text/html": [
       "<div>\n",
       "<style scoped>\n",
       "    .dataframe tbody tr th:only-of-type {\n",
       "        vertical-align: middle;\n",
       "    }\n",
       "\n",
       "    .dataframe tbody tr th {\n",
       "        vertical-align: top;\n",
       "    }\n",
       "\n",
       "    .dataframe thead th {\n",
       "        text-align: right;\n",
       "    }\n",
       "</style>\n",
       "<table border=\"1\" class=\"dataframe\">\n",
       "  <thead>\n",
       "    <tr style=\"text-align: right;\">\n",
       "      <th></th>\n",
       "      <th>Trip_ID</th>\n",
       "      <th>Duration</th>\n",
       "      <th>Start_Date</th>\n",
       "      <th>Start_Station</th>\n",
       "      <th>Start_Terminal</th>\n",
       "      <th>End_Date</th>\n",
       "      <th>End_Station</th>\n",
       "      <th>End_Terminal</th>\n",
       "      <th>key</th>\n",
       "      <th>Subscriber_Type</th>\n",
       "      <th>Zip_Code</th>\n",
       "    </tr>\n",
       "  </thead>\n",
       "  <tbody>\n",
       "    <tr>\n",
       "      <th>0</th>\n",
       "      <td>913460</td>\n",
       "      <td>765</td>\n",
       "      <td>8/31/2015 23:26</td>\n",
       "      <td>Harry Bridges Plaza (Ferry Building)</td>\n",
       "      <td>50</td>\n",
       "      <td>8/31/2015 23:39</td>\n",
       "      <td>San Francisco Caltrain (Townsend at 4th)</td>\n",
       "      <td>70</td>\n",
       "      <td>288</td>\n",
       "      <td>Subscriber</td>\n",
       "      <td>2139</td>\n",
       "    </tr>\n",
       "    <tr>\n",
       "      <th>1</th>\n",
       "      <td>913459</td>\n",
       "      <td>1036</td>\n",
       "      <td>8/31/2015 23:11</td>\n",
       "      <td>San Antonio Shopping Center</td>\n",
       "      <td>31</td>\n",
       "      <td>8/31/2015 23:28</td>\n",
       "      <td>Mountain View City Hall</td>\n",
       "      <td>27</td>\n",
       "      <td>35</td>\n",
       "      <td>Subscriber</td>\n",
       "      <td>95032</td>\n",
       "    </tr>\n",
       "    <tr>\n",
       "      <th>2</th>\n",
       "      <td>913455</td>\n",
       "      <td>307</td>\n",
       "      <td>8/31/2015 23:13</td>\n",
       "      <td>Post at Kearny</td>\n",
       "      <td>47</td>\n",
       "      <td>8/31/2015 23:18</td>\n",
       "      <td>2nd at South Park</td>\n",
       "      <td>64</td>\n",
       "      <td>468</td>\n",
       "      <td>Subscriber</td>\n",
       "      <td>94107</td>\n",
       "    </tr>\n",
       "  </tbody>\n",
       "</table>\n",
       "</div>"
      ],
      "text/plain": [
       "   Trip_ID  Duration       Start_Date                         Start_Station  \\\n",
       "0   913460       765  8/31/2015 23:26  Harry Bridges Plaza (Ferry Building)   \n",
       "1   913459      1036  8/31/2015 23:11           San Antonio Shopping Center   \n",
       "2   913455       307  8/31/2015 23:13                        Post at Kearny   \n",
       "\n",
       "   Start_Terminal         End_Date                               End_Station  \\\n",
       "0              50  8/31/2015 23:39  San Francisco Caltrain (Townsend at 4th)   \n",
       "1              31  8/31/2015 23:28                   Mountain View City Hall   \n",
       "2              47  8/31/2015 23:18                         2nd at South Park   \n",
       "\n",
       "   End_Terminal  key Subscriber_Type  Zip_Code  \n",
       "0            70  288      Subscriber      2139  \n",
       "1            27   35      Subscriber     95032  \n",
       "2            64  468      Subscriber     94107  "
      ]
     },
     "execution_count": 5,
     "metadata": {},
     "output_type": "execute_result"
    }
   ],
   "source": [
    "import pandas as pd\n",
    "\n",
    "xml_file_path = \"trimmed/trips_trimmed.xml\"\n",
    "\n",
    "# Function to read XML and parse into DataFrame\n",
    "def read_xml_to_df(xml_file: str) -> pd.DataFrame:\n",
    "    # Parse the XML file into a DataFrame\n",
    "    df = pd.read_xml(xml_file)\n",
    "    return df\n",
    "\n",
    "# Read the XML file into a DataFrame\n",
    "df = read_xml_to_df(xml_file_path)\n",
    "\n",
    "# Display the DataFrame\n",
    "df"
   ]
  },
  {
   "cell_type": "markdown",
   "id": "6b66eaa3-a685-43ae-9c70-68eba0e05378",
   "metadata": {
    "jp-MarkdownHeadingCollapsed": true
   },
   "source": [
    "## JSON"
   ]
  },
  {
   "cell_type": "code",
   "execution_count": null,
   "id": "1fbd52df-e5bb-4eed-b294-888b62834c64",
   "metadata": {},
   "outputs": [],
   "source": []
  },
  {
   "cell_type": "markdown",
   "id": "32836d09-e80c-4430-bfff-beb7a14eed62",
   "metadata": {},
   "source": [
    "* JSON stands for JavaScript Object Notation.\n",
    "* The format was specified by Douglas Crockford.\n",
    "* It was designed for human-readable data interchange.\n",
    "* It has been extended from the JavaScript scripting language.\n",
    "* The filename extension is .json.\n",
    "* JSON Internet Media type is application/json.\n",
    "* The Uniform Type Identifier is public.json.\n"
   ]
  },
  {
   "cell_type": "markdown",
   "id": "7503b894-024f-4510-b079-aff017559f33",
   "metadata": {},
   "source": [
    "```json\n",
    "{\n",
    "     \"id\": \"01\",\n",
    "     \"language\": \"Java\",\n",
    "     \"edition\": \"third\",\n",
    "     \"author\": \"Herbert Schildt\"\n",
    "}\n",
    "```"
   ]
  },
  {
   "cell_type": "markdown",
   "id": "0d3acae3-0d7b-4250-96c1-97d29ab75c10",
   "metadata": {},
   "source": [
    "**JSON VS XML**   \n",
    "```json\n",
    "{\n",
    "   \"company\": Volkswagen,\n",
    "   \"name\": \"Vento\",\n",
    "   \"price\": 800000\n",
    "}\n",
    "```\n",
    "\n",
    "```xml\n",
    "<car>\n",
    "   <company>Volkswagen</company>\n",
    "   <name>Vento</name>\n",
    "   <price>800000</price>\n",
    "</car>\n",
    "```"
   ]
  },
  {
   "cell_type": "markdown",
   "id": "af98e2e9-f125-46cd-9383-a72595bcf445",
   "metadata": {},
   "source": [
    "**Data types**  \n",
    "1. **String**: Text enclosed in double quotes.\n",
    "2. **Number**: Any numerical value, including integers and floating-point numbers.\n",
    "3. **Object**: A collection of key-value pairs, with keys being strings.\n",
    "4. **Array**: An ordered list of values.\n",
    "5. **Boolean**: True or false values.\n",
    "6. **Null**: A special type that represents a null value."
   ]
  },
  {
   "cell_type": "markdown",
   "id": "e6272da5-a3c4-4ed3-baac-454bd9a628f8",
   "metadata": {},
   "source": [
    "```json\n",
    "{\n",
    "  \"string\": \"Hello, World!\",\n",
    "  \"number_integer\": 123,\n",
    "  \"number_float\": 456.78,\n",
    "  \"object\": {\n",
    "    \"nested_string\": \"Nested Hello\",\n",
    "    \"nested_number\": 42\n",
    "  },\n",
    "  \"array\": [1, \"two\", 3.0, {\"key\": \"value\"}, true],\n",
    "  \"boolean_true\": true,\n",
    "  \"boolean_false\": false,\n",
    "  \"null_value\": null\n",
    "}\n",
    "```"
   ]
  },
  {
   "cell_type": "markdown",
   "id": "d2fa5a2e-96aa-4dd1-80ce-333f0a040c75",
   "metadata": {},
   "source": [
    "**JSON Array**  \n",
    "```json\n",
    "[\n",
    "    {\n",
    "        \"Trip ID\":913460,\n",
    "        \"Duration\":765,\n",
    "        \"Start Date\":\"8\\/31\\/2015 23:26\",\n",
    "        \"Start Station\":\"Harry Bridges Plaza (Ferry Building)\",\n",
    "        \"Start Terminal\":50,\n",
    "        \"End Date\":\"8\\/31\\/2015 23:39\",\n",
    "        \"End Station\":\"San Francisco Caltrain (Townsend at 4th)\",\n",
    "        \"End Terminal\":70,\n",
    "        \"Bike #\":288,\n",
    "        \"Subscriber Type\":\"Subscriber\",\n",
    "        \"Zip Code\":\"2139\"\n",
    "    },\n",
    "    {\n",
    "        \"Trip ID\":913459,\n",
    "        \"Duration\":1036,\n",
    "        \"Start Date\":\"8\\/31\\/2015 23:11\",\n",
    "        \"Start Station\":\"San Antonio Shopping Center\",\n",
    "        \"Start Terminal\":31,\n",
    "        \"End Date\":\"8\\/31\\/2015 23:28\",\n",
    "        \"End Station\":\"Mountain View City Hall\",\n",
    "        \"End Terminal\":27,\n",
    "        \"Bike #\":35,\n",
    "        \"Subscriber Type\":\"Subscriber\",\n",
    "        \"Zip Code\":\"95032\"\n",
    "    },\n",
    "    {\n",
    "        \"Trip ID\":913455,\n",
    "        \"Duration\":307,\n",
    "        \"Start Date\":\"8\\/31\\/2015 23:13\",\n",
    "        \"Start Station\":\"Post at Kearny\",\n",
    "        \"Start Terminal\":47,\n",
    "        \"End Date\":\"8\\/31\\/2015 23:18\",\n",
    "        \"End Station\":\"2nd at South Park\",\n",
    "        \"End Terminal\":64,\n",
    "        \"Bike #\":468,\n",
    "        \"Subscriber Type\":\"Subscriber\",\n",
    "        \"Zip Code\":\"94107\"\n",
    "    }\n",
    "]\n",
    "```"
   ]
  },
  {
   "cell_type": "code",
   "execution_count": 9,
   "id": "fbc8ac93-f9bc-43e2-80be-3dfe44631cdb",
   "metadata": {},
   "outputs": [
    {
     "data": {
      "text/html": [
       "<div>\n",
       "<style scoped>\n",
       "    .dataframe tbody tr th:only-of-type {\n",
       "        vertical-align: middle;\n",
       "    }\n",
       "\n",
       "    .dataframe tbody tr th {\n",
       "        vertical-align: top;\n",
       "    }\n",
       "\n",
       "    .dataframe thead th {\n",
       "        text-align: right;\n",
       "    }\n",
       "</style>\n",
       "<table border=\"1\" class=\"dataframe\">\n",
       "  <thead>\n",
       "    <tr style=\"text-align: right;\">\n",
       "      <th></th>\n",
       "      <th>Trip ID</th>\n",
       "      <th>Duration</th>\n",
       "      <th>Start Date</th>\n",
       "      <th>Start Station</th>\n",
       "      <th>Start Terminal</th>\n",
       "      <th>End Date</th>\n",
       "      <th>End Station</th>\n",
       "      <th>End Terminal</th>\n",
       "      <th>Bike #</th>\n",
       "      <th>Subscriber Type</th>\n",
       "      <th>Zip Code</th>\n",
       "    </tr>\n",
       "  </thead>\n",
       "  <tbody>\n",
       "    <tr>\n",
       "      <th>0</th>\n",
       "      <td>913460</td>\n",
       "      <td>765</td>\n",
       "      <td>8/31/2015 23:26</td>\n",
       "      <td>Harry Bridges Plaza (Ferry Building)</td>\n",
       "      <td>50</td>\n",
       "      <td>8/31/2015 23:39</td>\n",
       "      <td>San Francisco Caltrain (Townsend at 4th)</td>\n",
       "      <td>70</td>\n",
       "      <td>288</td>\n",
       "      <td>Subscriber</td>\n",
       "      <td>2139</td>\n",
       "    </tr>\n",
       "    <tr>\n",
       "      <th>1</th>\n",
       "      <td>913459</td>\n",
       "      <td>1036</td>\n",
       "      <td>8/31/2015 23:11</td>\n",
       "      <td>San Antonio Shopping Center</td>\n",
       "      <td>31</td>\n",
       "      <td>8/31/2015 23:28</td>\n",
       "      <td>Mountain View City Hall</td>\n",
       "      <td>27</td>\n",
       "      <td>35</td>\n",
       "      <td>Subscriber</td>\n",
       "      <td>95032</td>\n",
       "    </tr>\n",
       "    <tr>\n",
       "      <th>2</th>\n",
       "      <td>913455</td>\n",
       "      <td>307</td>\n",
       "      <td>8/31/2015 23:13</td>\n",
       "      <td>Post at Kearny</td>\n",
       "      <td>47</td>\n",
       "      <td>8/31/2015 23:18</td>\n",
       "      <td>2nd at South Park</td>\n",
       "      <td>64</td>\n",
       "      <td>468</td>\n",
       "      <td>Subscriber</td>\n",
       "      <td>94107</td>\n",
       "    </tr>\n",
       "  </tbody>\n",
       "</table>\n",
       "</div>"
      ],
      "text/plain": [
       "   Trip ID  Duration       Start Date                         Start Station  \\\n",
       "0   913460       765  8/31/2015 23:26  Harry Bridges Plaza (Ferry Building)   \n",
       "1   913459      1036  8/31/2015 23:11           San Antonio Shopping Center   \n",
       "2   913455       307  8/31/2015 23:13                        Post at Kearny   \n",
       "\n",
       "   Start Terminal         End Date                               End Station  \\\n",
       "0              50  8/31/2015 23:39  San Francisco Caltrain (Townsend at 4th)   \n",
       "1              31  8/31/2015 23:28                   Mountain View City Hall   \n",
       "2              47  8/31/2015 23:18                         2nd at South Park   \n",
       "\n",
       "   End Terminal  Bike # Subscriber Type  Zip Code  \n",
       "0            70     288      Subscriber      2139  \n",
       "1            27      35      Subscriber     95032  \n",
       "2            64     468      Subscriber     94107  "
      ]
     },
     "execution_count": 9,
     "metadata": {},
     "output_type": "execute_result"
    }
   ],
   "source": [
    "import pandas as pd\n",
    "\n",
    "# Specify the path to your JSON file\n",
    "json_file_path = \"trimmed/trips_trimmed.json\"\n",
    "\n",
    "# Load the JSON data into a DataFrame\n",
    "df = pd.read_json(json_file_path)\n",
    "\n",
    "# Display the DataFrame\n",
    "df"
   ]
  },
  {
   "cell_type": "markdown",
   "id": "4890ddc7-f922-41d0-be10-bd1c640524dc",
   "metadata": {
    "jp-MarkdownHeadingCollapsed": true
   },
   "source": [
    "## YAML"
   ]
  },
  {
   "cell_type": "markdown",
   "id": "f818857d-f390-4bc5-9f4c-5917883471d5",
   "metadata": {},
   "source": [
    "* YAML is one of the most popular data serialization languages, and it is used mostly for writing configuration files.\n",
    "* The YAML recursive acronym stands for YAML Ain’t Markup Language"
   ]
  },
  {
   "cell_type": "markdown",
   "id": "cded249d-841c-49eb-9ef7-3345bfa6a5e1",
   "metadata": {},
   "source": [
    "**Basic YAML syntax**  \n",
    "\n",
    "* **Maps/Dictionaries** (YAML calls it mapping)\n",
    "The content of a mapping node is an unordered set of key/value node pairs, with the restriction that each of the keys is unique. YAML places no further restrictions on the nodes.\n",
    "* **Arrays/Lists** (YAML calls them sequences)\n",
    "The content of a sequence node is an ordered series of zero or more nodes. In particular, a sequence may contain the same node more than once. It could even contain itself.\n",
    "* **Literals** (Strings, numbers, boolean, etc.)\n",
    "The content of a scalar node is an opaque datum that can be presented as a series of zero or more Unicode characters.\n",
    "\n",
    "\n",
    "```yaml\n",
    "---\n",
    "# A sample yaml file\n",
    "company: spacelift\n",
    "domain:\n",
    " - devops\n",
    " - devsecops\n",
    "tutorial:\n",
    "  - yaml:\n",
    "      name: \"YAML Ain't Markup Language\"\n",
    "      type: awesome\n",
    "      born: 2001\n",
    "  - json:\n",
    "      name: JavaScript Object Notation\n",
    "      type: great\n",
    "      born: 2001\n",
    "  - xml:\n",
    "      name: Extensible Markup Language\n",
    "      type: good\n",
    "      born: 1996\n",
    "author: omkarbirade\n",
    "published: true\n",
    "```"
   ]
  },
  {
   "cell_type": "markdown",
   "id": "ab744c83-03f0-458e-9d22-463496effb2e",
   "metadata": {},
   "source": [
    "**JSON**  \n",
    "```json\n",
    "{\n",
    "  \"company\": \"spacelift\",\n",
    "  \"domain\": [\"devops\", \"devsecops\"],\n",
    "  \"tutorial\": [\n",
    "    {\n",
    "      \"yaml\": {\n",
    "        \"name\": \"YAML Ain't Markup Language\",\n",
    "        \"type\": \"awesome\",\n",
    "        \"born\": 2001\n",
    "      }\n",
    "    },\n",
    "    {\n",
    "      \"json\": {\n",
    "        \"name\": \"JavaScript Object Notation\",\n",
    "        \"type\": \"great\",\n",
    "        \"born\": 2001\n",
    "      }\n",
    "    },\n",
    "    {\n",
    "      \"xml\": {\n",
    "        \"name\": \"Extensible Markup Language\",\n",
    "        \"type\": \"good\",\n",
    "        \"born\": 1996\n",
    "      }\n",
    "    }\n",
    "  ],\n",
    "  \"author\": \"omkarbirade\",\n",
    "  \"published\": true\n",
    "}\n",
    "```"
   ]
  },
  {
   "cell_type": "markdown",
   "id": "7753e675-d913-4a1b-82dd-4f9eb26cf594",
   "metadata": {},
   "source": [
    "**XML**  \n",
    "```xml\n",
    "<root>\n",
    "    <company>spacelift</company>\n",
    "    <domain>devops</domain>\n",
    "    <domain>devsecops</domain>\n",
    "    <tutorials>\n",
    "        <yaml>\n",
    "            <name>YAML Ain't Markup Language</name>\n",
    "            <type>awesome</type>\n",
    "            <born>2001</born>\n",
    "        </yaml>\n",
    "        <json>\n",
    "            <name>JavaScript Object Notation</name>\n",
    "            <type>great</type>\n",
    "            <born>2001</born>\n",
    "        </json>\n",
    "        <xml>\n",
    "            <name>Extensible Markup Language</name>\n",
    "            <type>good</type>\n",
    "            <born>1996</born>\n",
    "        </xml>\n",
    "    </tutorials>\n",
    "    <author>omkarbirade</author>\n",
    "    <published>true</published>\n",
    "</root>\n",
    "```"
   ]
  },
  {
   "cell_type": "markdown",
   "id": "96fbf355-fc4b-43fc-9f71-b33514da7354",
   "metadata": {},
   "source": [
    "**Indentation**  \n",
    "```yaml\n",
    "tutorial:  #nesting level 1\n",
    "  - yaml:  #nesting level 2 (2 spaces used for indentation)\n",
    "      name: \"YAML Ain't Markup Language\" #string [literal] #nesting level 3 (4 spaces used for indentation)\n",
    "      type: awesome #string [literal]\n",
    "      born: 2001 #number [literal]\n",
    "```"
   ]
  },
  {
   "cell_type": "markdown",
   "id": "7b9d4f17-9d84-4c82-8a69-a1e5b977e734",
   "metadata": {},
   "source": [
    "**Mappings**  \n",
    "The content of a mapping node is an unordered set of key/value node pairs, with the restriction that each of the keys is unique  \n",
    "\n",
    "```yaml\n",
    "name: \"Ahmed\"\n",
    "country: \"Egypt\"\n",
    "sex: \"Male\"\n",
    "```"
   ]
  },
  {
   "cell_type": "markdown",
   "id": "4c195583-3a84-44f6-aa49-b8ed89e0ab23",
   "metadata": {},
   "source": [
    "**Arrays (sequences)**  \n",
    "The content of a sequence node is an ordered series of zero or more nodes. In particular, a sequence may contain the same node more than once. It could even contain itself  \n",
    "```yaml\n",
    "langauges:\n",
    "  - English\n",
    "  - Arabic\n",
    "  - Hindi\n",
    "```"
   ]
  },
  {
   "cell_type": "markdown",
   "id": "5534efdb-9f37-4638-8e51-25c6c54a876c",
   "metadata": {},
   "source": [
    "**Literals — Strings**  \n",
    "String literals in YAML do not need to be quoted. It is only important to quote them when they contain a value that can be mistaken for a special character  \n",
    "```yaml\n",
    "message1: YAML & JSON # breaks as a & is a special character\n",
    "message2: \"YAML & JSON\" # Works as the string is quoted\n",
    "```"
   ]
  },
  {
   "cell_type": "markdown",
   "id": "045a4872-f3ed-406a-91da-e7acf24a0967",
   "metadata": {},
   "source": [
    "**String blocks**  \n",
    "\n",
    "Single line:  \n",
    "```yaml\n",
    "message: >+\n",
    " This block line\n",
    " Will be interpreted as a single\n",
    " line with a newline character at the \n",
    " end\n",
    "```\n",
    "\n",
    "Multiline:  \n",
    "```yaml\n",
    "message: |\n",
    " this is\n",
    " a real multiline\n",
    " message\n",
    "```"
   ]
  },
  {
   "cell_type": "markdown",
   "id": "bca5e920-a4ad-4d24-a798-209011340451",
   "metadata": {},
   "source": [
    "**Comments**  \n",
    "\n",
    "```yaml\n",
    "---\n",
    "# Comments inside a YAML file can be added followed by the '#' character\n",
    "company: spacelift\n",
    "```"
   ]
  },
  {
   "cell_type": "markdown",
   "id": "b6571bbe-4999-4a58-8089-d689b240b4eb",
   "metadata": {},
   "source": [
    "**Documents**  \n",
    "The above YAML snippet is called a document. A single YAML file can have more than one document. Each document can be interpreted as a separate YAML file which means multiple documents can contain the same or duplicate keys which are not allowed in the same document.\n",
    "The beginning of a document is denoted by three hyphens ---.  \n",
    "Triple dots are used to end a YAML document without starting a new one ..."
   ]
  },
  {
   "cell_type": "markdown",
   "id": "f19bcec8-0282-4bf1-aee7-e0d52097f0b9",
   "metadata": {},
   "source": [
    "```yaml\n",
    "---\n",
    "# document 1\n",
    "codename: YAML\n",
    "name: YAML ain't markup language\n",
    "release: 2001\n",
    "\n",
    "---\n",
    "# document 2\n",
    "uses:\n",
    " - configuration language\n",
    " - data persistence\n",
    " - internet messaging\n",
    " - cross-language data sharing\n",
    "\n",
    "---\n",
    "# document 3\n",
    "company: spacelift\n",
    "domain:\n",
    " - devops\n",
    " - devsecops\n",
    "tutorial:\n",
    "   - name: yaml\n",
    "   - type: awesome\n",
    "   - rank: 1\n",
    "   - born: 2001\n",
    "author: omkarbirade\n",
    "published: true\n",
    "..."
   ]
  },
  {
   "cell_type": "markdown",
   "id": "e095d1e5-d1b7-4580-b91c-d70b21b8245d",
   "metadata": {},
   "source": [
    "**Schemas and Tags**  \n",
    "**Schemas** can be thought of as the way a parser resolves or understands nodes (values) present in a YAML file. There are primarily three default schemas in YAML:\n",
    "\n",
    "* **FailSafe** Schema understands only maps, sequences, and strings and is guaranteed to work with any YAML file.\n",
    "* **JSON schema** understands all types supported within JSON, including boolean, null, int, and float, as well as those in the FailSafe schema. \n",
    "* **Core schema** is an extension of the JSON schema, making it more human-readable supporting the same types but in multiple forms.  \n",
    "For example: 1. null | Null | NULL will all be resolved to the same type null, and true | True | TRUE will all be resolved to the same boolean value."
   ]
  },
  {
   "cell_type": "markdown",
   "id": "996c88ff-247e-4182-914e-423626e4899b",
   "metadata": {},
   "source": [
    "**Tags** can be thought of as types in YAML."
   ]
  },
  {
   "cell_type": "markdown",
   "id": "6c0e242f-e150-4c52-ac10-97a1470ee87d",
   "metadata": {},
   "source": [
    "```yaml\n",
    "---\n",
    "# A sample yaml file\n",
    "company: !!str spacelift\n",
    "domain:\n",
    " - !!str devops\n",
    " - !!str devsecops\n",
    "tutorial:\n",
    "   - name: !!str yaml\n",
    "   - type: !!str awesome\n",
    "   - rank: !!int 1\n",
    "   - born: !!int 2001\n",
    "author: !!str omkarbirade\n",
    "published: !!bool true\n",
    "```"
   ]
  },
  {
   "cell_type": "code",
   "execution_count": 18,
   "id": "7a0eca1e-cfee-4185-abc7-422ce320ae8a",
   "metadata": {},
   "outputs": [
    {
     "data": {
      "text/html": [
       "<div>\n",
       "<style scoped>\n",
       "    .dataframe tbody tr th:only-of-type {\n",
       "        vertical-align: middle;\n",
       "    }\n",
       "\n",
       "    .dataframe tbody tr th {\n",
       "        vertical-align: top;\n",
       "    }\n",
       "\n",
       "    .dataframe thead th {\n",
       "        text-align: right;\n",
       "    }\n",
       "</style>\n",
       "<table border=\"1\" class=\"dataframe\">\n",
       "  <thead>\n",
       "    <tr style=\"text-align: right;\">\n",
       "      <th></th>\n",
       "      <th>[0].Bike #</th>\n",
       "      <th>[0].Duration</th>\n",
       "      <th>[0].End Date</th>\n",
       "      <th>[0].End Station</th>\n",
       "      <th>[0].End Terminal</th>\n",
       "      <th>[0].Start Date</th>\n",
       "      <th>[0].Start Station</th>\n",
       "      <th>[0].Start Terminal</th>\n",
       "      <th>[0].Subscriber Type</th>\n",
       "      <th>[0].Trip ID</th>\n",
       "      <th>...</th>\n",
       "      <th>[2].Duration</th>\n",
       "      <th>[2].End Date</th>\n",
       "      <th>[2].End Station</th>\n",
       "      <th>[2].End Terminal</th>\n",
       "      <th>[2].Start Date</th>\n",
       "      <th>[2].Start Station</th>\n",
       "      <th>[2].Start Terminal</th>\n",
       "      <th>[2].Subscriber Type</th>\n",
       "      <th>[2].Trip ID</th>\n",
       "      <th>[2].Zip Code</th>\n",
       "    </tr>\n",
       "  </thead>\n",
       "  <tbody>\n",
       "    <tr>\n",
       "      <th>0</th>\n",
       "      <td>288</td>\n",
       "      <td>765</td>\n",
       "      <td>8/31/2015 23:39</td>\n",
       "      <td>San Francisco Caltrain (Townsend at 4th)</td>\n",
       "      <td>70</td>\n",
       "      <td>8/31/2015 23:26</td>\n",
       "      <td>Harry Bridges Plaza (Ferry Building)</td>\n",
       "      <td>50</td>\n",
       "      <td>Subscriber</td>\n",
       "      <td>913460</td>\n",
       "      <td>...</td>\n",
       "      <td>307</td>\n",
       "      <td>8/31/2015 23:18</td>\n",
       "      <td>2nd at South Park</td>\n",
       "      <td>64</td>\n",
       "      <td>8/31/2015 23:13</td>\n",
       "      <td>Post at Kearny</td>\n",
       "      <td>47</td>\n",
       "      <td>Subscriber</td>\n",
       "      <td>913455</td>\n",
       "      <td>94107</td>\n",
       "    </tr>\n",
       "  </tbody>\n",
       "</table>\n",
       "<p>1 rows × 33 columns</p>\n",
       "</div>"
      ],
      "text/plain": [
       "   [0].Bike #  [0].Duration     [0].End Date  \\\n",
       "0         288           765  8/31/2015 23:39   \n",
       "\n",
       "                            [0].End Station  [0].End Terminal  \\\n",
       "0  San Francisco Caltrain (Townsend at 4th)                70   \n",
       "\n",
       "    [0].Start Date                     [0].Start Station  [0].Start Terminal  \\\n",
       "0  8/31/2015 23:26  Harry Bridges Plaza (Ferry Building)                  50   \n",
       "\n",
       "  [0].Subscriber Type  [0].Trip ID  ... [2].Duration     [2].End Date  \\\n",
       "0          Subscriber       913460  ...          307  8/31/2015 23:18   \n",
       "\n",
       "     [2].End Station [2].End Terminal   [2].Start Date  [2].Start Station  \\\n",
       "0  2nd at South Park               64  8/31/2015 23:13     Post at Kearny   \n",
       "\n",
       "  [2].Start Terminal [2].Subscriber Type  [2].Trip ID [2].Zip Code  \n",
       "0                 47          Subscriber       913455        94107  \n",
       "\n",
       "[1 rows x 33 columns]"
      ]
     },
     "execution_count": 18,
     "metadata": {},
     "output_type": "execute_result"
    }
   ],
   "source": [
    "import pandas as pd\n",
    "import yaml\n",
    "\n",
    "def flatten_dict_item(prefix, item):\n",
    "    \"\"\"Recursively flattens a dictionary item, adding a prefix.\"\"\"\n",
    "    if isinstance(item, dict):\n",
    "        for k, v in item.items():\n",
    "            yield from flatten_dict_item(f\"{prefix}.{k}\" if prefix else k, v)\n",
    "    elif isinstance(item, list):\n",
    "        for i, v in enumerate(item):\n",
    "            yield from flatten_dict_item(f\"{prefix}[{i}]\", v)\n",
    "    else:\n",
    "        yield (prefix, item)\n",
    "\n",
    "def flatten_yaml(data):\n",
    "    \"\"\"Flattens the YAML data into a list of dictionaries.\"\"\"\n",
    "    return [dict(flatten_dict_item(\"\", data))]\n",
    "\n",
    "def load_yaml_to_dataframe(yaml_file_path):\n",
    "    \"\"\"Loads YAML and converts it into a Pandas DataFrame.\"\"\"\n",
    "    with open(yaml_file_path, 'r') as file:\n",
    "        yaml_data = yaml.safe_load(file)\n",
    "    \n",
    "    # Flatten the YAML data\n",
    "    flattened_data = flatten_yaml(yaml_data)\n",
    "    \n",
    "    # Convert to DataFrame\n",
    "    df = pd.DataFrame(flattened_data)\n",
    "    return df\n",
    "\n",
    "# Specify the path to your YAML file\n",
    "yaml_file_path = 'trimmed/trips_trimmed.yaml'  # Replace with the actual path to your YAML file\n",
    "\n",
    "# Load the data into a DataFrame\n",
    "\n",
    "df = load_yaml_to_dataframe(yaml_file_path)\n",
    "df\n"
   ]
  },
  {
   "cell_type": "markdown",
   "id": "3741fd92-720f-42fb-8621-2a387fd61159",
   "metadata": {
    "jp-MarkdownHeadingCollapsed": true
   },
   "source": [
    "## What is the Problem?"
   ]
  },
  {
   "cell_type": "markdown",
   "id": "9a2a8bd1-8592-4441-9454-0c1738fd2ce0",
   "metadata": {},
   "source": [
    "There's no problem :)  \n",
    "But there are more features and more optimization for bid data analytics"
   ]
  },
  {
   "cell_type": "markdown",
   "id": "257c7a3f-83ed-4cee-bc8b-9eaa7e0a8354",
   "metadata": {},
   "source": [
    "* **Storage and Compression**\n",
    "* **Splittability**\n",
    "* **Performance Optimization**\n",
    "* **Schema Evolution and Data Types**"
   ]
  },
  {
   "cell_type": "markdown",
   "id": "098f0f1e-e70a-4d47-bd97-cb6f194b95d8",
   "metadata": {
    "jp-MarkdownHeadingCollapsed": true
   },
   "source": [
    "## Apache Avro"
   ]
  },
  {
   "cell_type": "markdown",
   "id": "f69c18c9-e59b-4853-97bf-e66d00bd4ae3",
   "metadata": {},
   "source": [
    "![](./images/avro.png)"
   ]
  },
  {
   "cell_type": "markdown",
   "id": "1ec67d57-40c8-4fa2-81de-712764ef4ac6",
   "metadata": {},
   "source": [
    "* Avro is a language-neutral data serialization system.\n",
    "* It can be processed by many languages (currently C, C++, C#, Java, Python, and Ruby).\n",
    "* Avro creates binary structured format that is both compressible and splittable. Hence it can be efficiently used as the input to Hadoop MapReduce jobs.\n",
    "* Avro provides rich data structures. For example, you can create a record that contains an array, an enumerated type, and a sub record. These datatypes can be created in any language, can be processed in Hadoop, and the results can be fed to a third language.\n",
    "* Avro schemas defined in JSON, facilitate implementation in the languages that already have JSON libraries.\n",
    "* Avro creates a self-describing file named Avro Data File, in which it stores data along with its schema in the metadata section.\n",
    "* Avro is also used in Remote Procedure Calls (RPCs). During RPC, client and server exchange schemas in the connection handshake.\n"
   ]
  },
  {
   "cell_type": "markdown",
   "id": "328e32f1-f105-4f47-a0e8-116796948f82",
   "metadata": {},
   "source": [
    "* **Schema-based Serialization**: Avro uses a schema to define the structure of the data, ensuring that both the data and its schema are stored together. This approach facilitates data validation and compatibility checks during data exchange.\n",
    "* **Compact and Efficient**: Avro's binary encoding is compact compared to text-based formats like JSON or XML. This leads to reduced storage requirements and faster data transmission, which is particularly beneficial for large datasets.\n",
    "* **Schema Evolution**: Avro supports schema evolution by allowing schemas to change over time without requiring data to be rewritten. It handles schema evolution gracefully, which is crucial for maintaining backward and forward compatibility.\n",
    "* **Dynamic Typing**: With Avro, data is dynamically typed. This flexibility makes it easier to handle complex data structures and ensures that applications in different programming languages can read and write Avro data seamlessly.\n",
    "* **No Overhead for Repeated Fields**: Unlike some formats that require repeated field names, Avro's serialization avoids such redundancy, further optimizing data storage and processing.\n",
    "* **Interoperability**: Avro is language-agnostic and supports interfaces for multiple programming languages, enhancing interoperability in distributed systems where applications in various languages need to share data.\n",
    "* **RPC Support**: Avro includes built-in support for remote procedure calls (RPC), which facilitates building networked services that can communicate efficiently.\n",
    "* **Efficient Data Compression**: Avro files can be compressed, providing additional storage savings and faster input/output operations while maintaining quick access to data.\n",
    "\n",
    "These features make Avro particularly well-suited for applications that require efficient data serialization and deserialization, compatibility across different systems, and support for evolving data schemas."
   ]
  },
  {
   "cell_type": "code",
   "execution_count": 22,
   "id": "b02c0ce8-457b-44cf-90d3-81beca06c8cd",
   "metadata": {},
   "outputs": [
    {
     "name": "stdout",
     "output_type": "stream",
     "text": [
      "Obj\u0001\u0004\u0014avro.codenull\u0016avro.schema�\u0007{\"type\": \"record\", \"name\": \"Trip\", \"fields\": [{\"name\": \"Trip ID\", \"type\": \"int\"}, {\"name\": \"Duration\", \"type\": \"int\"}, {\"name\": \"Start Date\", \"type\": \"string\"}, {\"name\": \"Start Station\", \"type\": \"string\"}, {\"name\": \"Start Terminal\", \"type\": \"int\"}, {\"name\": \"End Date\", \"type\": \"string\"}, {\"name\": \"End Station\", \"type\": \"string\"}, {\"name\": \"End Terminal\", \"type\": \"int\"}, {\"name\": \"Bike #\", \"type\": \"int\"}, {\"name\": \"Subscriber Type\", \"type\": \"string\"}, {\"name\": \"Zip Code\", \"type\": \"string\"}]}\u0000\u000e>f<&\n",
      "�\u0004\t\"+�<G�o\u0006�\u0005��o�\u000b",
      "\u001e",
      "8/31/2015 23:26HHarry Bridges Plaza (Ferry Building)d\u001e",
      "8/31/2015 23:39PSan Francisco Caltrain (Townsend at 4th)�\u0001�\u0004\u0014Subscribe2139��o�\u0010\u001e",
      "8/31/2015 23:116San Antonio Shopping Center>\u001e",
      "8/31/2015 23:28.Mountain View City Hall6F\u0014Subscriber\n",
      "95032��o�\u0004\u001e",
      "8/31/2015 23:13\u001c",
      "Post at Kearny^\u001e",
      "8/31/2015 23:18\"2nd at South Park�\u0001�\u0007\u0014Subscriber\n",
      "94107\u000e>f<&\n",
      "�\u0004\t\"+�<G�o"
     ]
    }
   ],
   "source": [
    "!cat ./trimmed/trips_trimmed.avro"
   ]
  },
  {
   "cell_type": "code",
   "execution_count": 23,
   "id": "473deb32-962d-42d4-b6d1-dda77562d3bc",
   "metadata": {},
   "outputs": [
    {
     "data": {
      "text/html": [
       "<div>\n",
       "<style scoped>\n",
       "    .dataframe tbody tr th:only-of-type {\n",
       "        vertical-align: middle;\n",
       "    }\n",
       "\n",
       "    .dataframe tbody tr th {\n",
       "        vertical-align: top;\n",
       "    }\n",
       "\n",
       "    .dataframe thead th {\n",
       "        text-align: right;\n",
       "    }\n",
       "</style>\n",
       "<table border=\"1\" class=\"dataframe\">\n",
       "  <thead>\n",
       "    <tr style=\"text-align: right;\">\n",
       "      <th></th>\n",
       "      <th>Trip ID</th>\n",
       "      <th>Duration</th>\n",
       "      <th>Start Date</th>\n",
       "      <th>Start Station</th>\n",
       "      <th>Start Terminal</th>\n",
       "      <th>End Date</th>\n",
       "      <th>End Station</th>\n",
       "      <th>End Terminal</th>\n",
       "      <th>Bike #</th>\n",
       "      <th>Subscriber Type</th>\n",
       "      <th>Zip Code</th>\n",
       "    </tr>\n",
       "  </thead>\n",
       "  <tbody>\n",
       "    <tr>\n",
       "      <th>0</th>\n",
       "      <td>913460</td>\n",
       "      <td>765</td>\n",
       "      <td>8/31/2015 23:26</td>\n",
       "      <td>Harry Bridges Plaza (Ferry Building)</td>\n",
       "      <td>50</td>\n",
       "      <td>8/31/2015 23:39</td>\n",
       "      <td>San Francisco Caltrain (Townsend at 4th)</td>\n",
       "      <td>70</td>\n",
       "      <td>288</td>\n",
       "      <td>Subscriber</td>\n",
       "      <td>2139</td>\n",
       "    </tr>\n",
       "    <tr>\n",
       "      <th>1</th>\n",
       "      <td>913459</td>\n",
       "      <td>1036</td>\n",
       "      <td>8/31/2015 23:11</td>\n",
       "      <td>San Antonio Shopping Center</td>\n",
       "      <td>31</td>\n",
       "      <td>8/31/2015 23:28</td>\n",
       "      <td>Mountain View City Hall</td>\n",
       "      <td>27</td>\n",
       "      <td>35</td>\n",
       "      <td>Subscriber</td>\n",
       "      <td>95032</td>\n",
       "    </tr>\n",
       "    <tr>\n",
       "      <th>2</th>\n",
       "      <td>913455</td>\n",
       "      <td>307</td>\n",
       "      <td>8/31/2015 23:13</td>\n",
       "      <td>Post at Kearny</td>\n",
       "      <td>47</td>\n",
       "      <td>8/31/2015 23:18</td>\n",
       "      <td>2nd at South Park</td>\n",
       "      <td>64</td>\n",
       "      <td>468</td>\n",
       "      <td>Subscriber</td>\n",
       "      <td>94107</td>\n",
       "    </tr>\n",
       "  </tbody>\n",
       "</table>\n",
       "</div>"
      ],
      "text/plain": [
       "   Trip ID  Duration       Start Date                         Start Station  \\\n",
       "0   913460       765  8/31/2015 23:26  Harry Bridges Plaza (Ferry Building)   \n",
       "1   913459      1036  8/31/2015 23:11           San Antonio Shopping Center   \n",
       "2   913455       307  8/31/2015 23:13                        Post at Kearny   \n",
       "\n",
       "   Start Terminal         End Date                               End Station  \\\n",
       "0              50  8/31/2015 23:39  San Francisco Caltrain (Townsend at 4th)   \n",
       "1              31  8/31/2015 23:28                   Mountain View City Hall   \n",
       "2              47  8/31/2015 23:18                         2nd at South Park   \n",
       "\n",
       "   End Terminal  Bike # Subscriber Type Zip Code  \n",
       "0            70     288      Subscriber     2139  \n",
       "1            27      35      Subscriber    95032  \n",
       "2            64     468      Subscriber    94107  "
      ]
     },
     "execution_count": 23,
     "metadata": {},
     "output_type": "execute_result"
    }
   ],
   "source": [
    "import fastavro\n",
    "import pandas as pd\n",
    "\n",
    "def avro_to_dataframe(avro_file_path):\n",
    "    # Open and read the Avro file\n",
    "    with open(avro_file_path, 'rb') as f:\n",
    "        # Use fastavro to read the records\n",
    "        reader = fastavro.reader(f)\n",
    "        records = [record for record in reader]\n",
    "    \n",
    "    # Convert the list of records to a pandas DataFrame\n",
    "    df = pd.DataFrame(records)\n",
    "    return df\n",
    "\n",
    "# Example usage\n",
    "avro_file_path = './trimmed/trips_trimmed.avro'  # Replace with your Avro file path\n",
    "df = avro_to_dataframe(avro_file_path)\n",
    "\n",
    "# Display the DataFrame\n",
    "df"
   ]
  },
  {
   "cell_type": "markdown",
   "id": "49e530a0-e571-4f97-a9a6-c5cdf646ec33",
   "metadata": {},
   "source": [
    "\n",
    "| Feature                   | Avro                                    | CSV                                   | JSON                                  |\n",
    "|---------------------------|-----------------------------------------|---------------------------------------|---------------------------------------|\n",
    "| **Data Encoding**         | Binary                                  | Text                                  | Text                                  |\n",
    "| **Schema Support**        | Yes; strong schema support with evolution | No schema                             | Optional schema (self-describing)     |\n",
    "| **Data Compression**      | Built-in compression support            | No built-in compression               | Can be compressed externally         |\n",
    "| **Readability**           | Not human-readable (binary format)      | Human-readable                        | Human-readable                        |\n",
    "| **File Size**             | Compact (due to binary encoding)        | Generally larger for complex data    | Larger than binary; depends on data   |\n",
    "| **Interoperability**      | High, with language agnostic libraries  | High, universal format                | High, universal format                |\n",
    "| **Serialization/Deserialization Speed** | Fast (optimized for performance) | Fast for simple data, slower for complex parsing | Slower due to parsing overhead       |\n",
    "| **Schema Evolution**      | Strong support for backward/forward compatibility | N/A                                  | Basic if using schema tools           |\n",
    "| **Nested Data Support**   | Full support for complex data types     | Limited; complex structures require creativity | Full support through dictionaries and lists |\n",
    "| **Data Validation**       | Schema ensures validation               | No built-in validation; needs custom code | No built-in validation; needs custom code |\n",
    "| **Use Case**              | Ideal for large-scale data processing and storage, with diverse and changing schemas | Suitable for simple, flat data structures | Commonly used for APIs and web applications, flexible structure |\n",
    "| **Tooling and Libraries** | Strong support across multiple platforms (Java, Python, etc.) | Widely supported in various tools and libraries | Widely supported, especially in web development |\n",
    "| **Support for Remote Procedure Calls (RPC)** | Yes, built-in RPC support           | No                                    | No                                    |"
   ]
  },
  {
   "cell_type": "code",
   "execution_count": 25,
   "id": "b1fca9bc-5f9e-46f2-a795-0af859d75d2a",
   "metadata": {},
   "outputs": [
    {
     "name": "stdout",
     "output_type": "stream",
     "text": [
      "{'name': 'Alice', 'age': 30, 'email': None}\n",
      "{'name': 'Bob', 'age': 25, 'email': None}\n"
     ]
    }
   ],
   "source": [
    "# Example showing schema evolution\n",
    "import fastavro\n",
    "from io import BytesIO\n",
    "\n",
    "# Initial schema (the writer's schema)\n",
    "writer_schema = {\n",
    "    \"type\": \"record\",\n",
    "    \"name\": \"User\",\n",
    "    \"fields\": [\n",
    "        {\"name\": \"name\", \"type\": \"string\"},\n",
    "        {\"name\": \"age\", \"type\": \"int\"}\n",
    "    ]\n",
    "}\n",
    "\n",
    "# Evolved schema (the reader's schema with an additional field)\n",
    "reader_schema = {\n",
    "    \"type\": \"record\",\n",
    "    \"name\": \"User\",\n",
    "    \"fields\": [\n",
    "        {\"name\": \"name\", \"type\": \"string\"},\n",
    "        {\"name\": \"age\", \"type\": \"int\"},\n",
    "        {\"name\": \"email\", \"type\": [\"null\", \"string\"], \"default\": None}  # New field with default value\n",
    "    ]\n",
    "}\n",
    "\n",
    "# Data that conforms to the initial schema\n",
    "users = [\n",
    "    {\"name\": \"Alice\", \"age\": 30},\n",
    "    {\"name\": \"Bob\", \"age\": 25}\n",
    "]\n",
    "\n",
    "# Write the data using the writer's schema\n",
    "bytes_writer = BytesIO()\n",
    "fastavro.writer(bytes_writer, writer_schema, users)\n",
    "bytes_writer.seek(0)\n",
    "\n",
    "# Read the data using the evolved reader's schema\n",
    "bytes_reader = BytesIO(bytes_writer.getvalue())\n",
    "reader = fastavro.reader(bytes_reader, reader_schema)\n",
    "\n",
    "# Print the records with the evolved schema\n",
    "for user in reader:\n",
    "    print(user)"
   ]
  },
  {
   "cell_type": "code",
   "execution_count": null,
   "id": "9b4032b6-82b9-49bf-8d92-5622f7305b45",
   "metadata": {},
   "outputs": [],
   "source": [
    "# Same example showing schema evolution failure with JSON format\n",
    "import json\n",
    "\n",
    "# Initial data (writer's schema)\n",
    "users_json = [\n",
    "    {\"name\": \"Alice\", \"age\": 30},\n",
    "    {\"name\": \"Bob\", \"age\": 25}\n",
    "]\n",
    "\n",
    "# Serialize to JSON\n",
    "json_data = json.dumps(users_json)\n",
    "print(\"Serialized JSON:\", json_data)\n",
    "\n",
    "\n",
    "#### Attempting to Read with an Evolved Schema\n",
    "\n",
    "# Evolved schema expectation\n",
    "# Here, we expect also an \"email\" field\n",
    "\n",
    "try:\n",
    "    # Deserialize the JSON data\n",
    "    deserialized_data = json.loads(json_data)\n",
    "    \n",
    "    # Attempt to access the new field, which doesn't exist in the data\n",
    "    for user in deserialized_data:\n",
    "        print(f\"Name: {user['name']}, Age: {user['age']}, Email: {user['email']}\")\n",
    "except KeyError as e:\n",
    "    print(f\"Error: Missing expected field - {e}\")"
   ]
  },
  {
   "cell_type": "code",
   "execution_count": null,
   "id": "d749d5c2-a50f-4a29-8a51-b9e3392c9f69",
   "metadata": {},
   "outputs": [],
   "source": []
  },
  {
   "cell_type": "markdown",
   "id": "b90fce8e-a068-44f4-987e-2237f31af6a1",
   "metadata": {},
   "source": [
    "## Apache ORC"
   ]
  },
  {
   "cell_type": "markdown",
   "id": "1141f464-d14d-4ff0-bf6d-2324c0532fa6",
   "metadata": {},
   "source": [
    "### What is Columnar Data Stores?"
   ]
  },
  {
   "cell_type": "code",
   "execution_count": null,
   "id": "93b6b493-25eb-41be-871d-bad55c4054d2",
   "metadata": {},
   "outputs": [],
   "source": []
  }
 ],
 "metadata": {
  "kernelspec": {
   "display_name": "Python 3 (ipykernel)",
   "language": "python",
   "name": "python3"
  },
  "language_info": {
   "codemirror_mode": {
    "name": "ipython",
    "version": 3
   },
   "file_extension": ".py",
   "mimetype": "text/x-python",
   "name": "python",
   "nbconvert_exporter": "python",
   "pygments_lexer": "ipython3",
   "version": "3.11.2"
  }
 },
 "nbformat": 4,
 "nbformat_minor": 5
}
