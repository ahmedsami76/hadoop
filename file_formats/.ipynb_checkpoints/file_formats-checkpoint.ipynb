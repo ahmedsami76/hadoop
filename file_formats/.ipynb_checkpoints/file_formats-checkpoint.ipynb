{
 "cells": [
  {
   "cell_type": "markdown",
   "id": "0c3cba32-4bf7-4bd9-a3ca-4b097aafebbe",
   "metadata": {},
   "source": [
    "# File Formats"
   ]
  },
  {
   "cell_type": "markdown",
   "id": "2e7efbc9-9ed3-4f75-971a-d1ffe4ce7983",
   "metadata": {
    "jp-MarkdownHeadingCollapsed": true
   },
   "source": [
    "## DELIMITED"
   ]
  },
  {
   "cell_type": "markdown",
   "id": "f723e8dc-b25e-466d-8697-f98d6f2fb419",
   "metadata": {},
   "source": [
    "* Comma\n",
    "* Tab\n",
    "* Colon\n",
    "* etc.."
   ]
  },
  {
   "cell_type": "code",
   "execution_count": null,
   "id": "5d103db5-2a84-4e66-a6fc-0722b54d47d2",
   "metadata": {},
   "outputs": [],
   "source": [
    "import pandas as pd\n",
    "\n",
    "# Specify the path to your CSV file\n",
    "json_file_path = \"trimmed/trips_trimmed.csv\"\n",
    "\n",
    "# Load the JSON data into a DataFrame\n",
    "df = pd.read_csv(json_file_path)\n",
    "\n",
    "# Display the DataFrame\n",
    "df"
   ]
  },
  {
   "cell_type": "markdown",
   "id": "300dfc19-9849-4402-a32b-673f6583a07b",
   "metadata": {
    "jp-MarkdownHeadingCollapsed": true
   },
   "source": [
    "## XML "
   ]
  },
  {
   "cell_type": "markdown",
   "id": "4729cd37-2e1d-4be7-b124-017f8aef84b9",
   "metadata": {},
   "source": [
    "**eXtensible Markup Language**\n",
    "* Store and transport data but doesn't present it\n",
    "* Public standard developed by W3C\n",
    "* Human and Machine-readable"
   ]
  },
  {
   "cell_type": "markdown",
   "id": "4261cf7d-fcc1-4dd3-9dad-d42c7ca6e94b",
   "metadata": {},
   "source": [
    "```xml\n",
    "<message>\n",
    "    <text>Hello, world!</text>\n",
    "</message>\n",
    "```"
   ]
  },
  {
   "cell_type": "markdown",
   "id": "f676db94-ed61-45fd-85f6-1eb7df5f2b68",
   "metadata": {},
   "source": [
    "```xml\n",
    "<?xml version = \"1.0\"?>\n",
    "<contact-info>\n",
    "   <name>Ahmed Sami</name>\n",
    "   <company>henak</company>\n",
    "   <phone>(011) 123-4567</phone>\n",
    "</contact-info>\n",
    "```"
   ]
  },
  {
   "cell_type": "markdown",
   "id": "6c07007b-e198-43c4-b0f5-2796d2a7821d",
   "metadata": {},
   "source": [
    "![](./images/syntaxrules.png)"
   ]
  },
  {
   "cell_type": "markdown",
   "id": "cd0cac6a-663b-45f2-9299-0c5467c3fea8",
   "metadata": {},
   "source": [
    "### XML Declaration"
   ]
  },
  {
   "cell_type": "markdown",
   "id": "f03c70fc-5669-4603-ad8c-0371cd8e2382",
   "metadata": {},
   "source": [
    "<?xml version = \"1.0\" encoding = \"UTF-8\"?>"
   ]
  },
  {
   "cell_type": "markdown",
   "id": "0e49eb81-bc3a-476b-8063-20da73d1fcf9",
   "metadata": {},
   "source": [
    "### Syntax Rules for XML Declaration"
   ]
  },
  {
   "cell_type": "markdown",
   "id": "2c1dc34d-cad8-4d7a-b7ed-8eaff0850489",
   "metadata": {},
   "source": [
    "* The XML declaration is case sensitive and must begin with \"<?xml>\" where \"xml\" is written in lower-case.\n",
    "* If document contains XML declaration, then it strictly needs to be the first statement of the XML document.\n",
    "* The XML declaration strictly needs be the first statement in the XML document.\n",
    "* An HTTP protocol can override the value of encoding that you put in the XML declaration.\n"
   ]
  },
  {
   "cell_type": "markdown",
   "id": "71b7c8d0-59f0-4c37-845b-cb145354197c",
   "metadata": {},
   "source": [
    "**Tags and Elements**  \n",
    "\n",
    "An XML file is structured by several XML-elements, also called XML-nodes or XML-tags. The names of XML-elements are enclosed in triangular brackets < > as shown below −  \n",
    "`<element>`  \n",
    "Syntax Rules for Tags and Elements  \n",
    "Element Syntax − Each XML-element needs to be closed either with start or with end elements as shown below −  \n",
    "`<element>....</element>`  \n",
    "or in simple-cases, just this way −  \n",
    "`<element/>`"
   ]
  },
  {
   "cell_type": "markdown",
   "id": "540acd78-3999-4398-bd87-8dda2d2ac9cb",
   "metadata": {},
   "source": [
    "**Nesting of Elements**  \n",
    "An XML-element can contain multiple XML-elements as its children, but the children elements must not overlap. i.e., an end tag of an element must have the same name as that of the most recent unmatched start tag."
   ]
  },
  {
   "cell_type": "markdown",
   "id": "8a96bd1c-ba6b-49d5-aa9e-dbc775aa5a70",
   "metadata": {},
   "source": [
    "**Root Element**  \n",
    "An XML document can have only one root element. For example, following is not a correct XML document, because both the x and y elements occur at the top level without a root element"
   ]
  },
  {
   "cell_type": "markdown",
   "id": "ad481429-03af-4900-8297-05221aabf783",
   "metadata": {},
   "source": [
    "**Case Sensitivity**  \n",
    "The names of XML-elements are case-sensitive. That means the name of the start and the end elements need to be exactly in the same case"
   ]
  },
  {
   "cell_type": "markdown",
   "id": "ecb945e4-51b1-48d6-a0a9-b4cab4b30863",
   "metadata": {},
   "source": [
    "**XML Attributes**  \n",
    "\n",
    "An attribute specifies a single property for the element, using a name/value pair. An XML-element can have one or more attributes. For example:  \n",
    "`<a href = \"http://www.sayedkabaka.com/\">United States of Talbiya!</a>  `  \n",
    "Here href is the attribute name and http://www.sayedkabaka.com/ is attribute value."
   ]
  },
  {
   "cell_type": "markdown",
   "id": "6c7d5eb3-1f04-4b2f-a2da-675843ad7c32",
   "metadata": {},
   "source": [
    "**XML declaration**  \n",
    "```xml\n",
    "<?xml\n",
    "   version = \"version_number\"\n",
    "   encoding = \"encoding_declaration\"\n",
    "   standalone = \"standalone_status\"\n",
    "?>\n",
    "```"
   ]
  },
  {
   "cell_type": "markdown",
   "id": "0af1c259-73ce-46f9-af97-593ea476817b",
   "metadata": {},
   "source": [
    "**XML Comments**   \n",
    "`<!--Students grades are uploaded by months-->`"
   ]
  },
  {
   "cell_type": "markdown",
   "id": "fd383de7-3a4e-4fc9-8e88-2c614c10cfd1",
   "metadata": {},
   "source": [
    "### Parse XML using Python"
   ]
  },
  {
   "cell_type": "code",
   "execution_count": null,
   "id": "12b652e2-165e-4153-b880-7342c6f52efe",
   "metadata": {},
   "outputs": [],
   "source": [
    "import pandas as pd\n",
    "\n",
    "xml_file_path = \"trimmed/trips_trimmed.xml\"\n",
    "\n",
    "# Function to read XML and parse into DataFrame\n",
    "def read_xml_to_df(xml_file: str) -> pd.DataFrame:\n",
    "    # Parse the XML file into a DataFrame\n",
    "    df = pd.read_xml(xml_file)\n",
    "    return df\n",
    "\n",
    "# Read the XML file into a DataFrame\n",
    "df = read_xml_to_df(xml_file_path)\n",
    "\n",
    "# Display the DataFrame\n",
    "df"
   ]
  },
  {
   "cell_type": "markdown",
   "id": "6b66eaa3-a685-43ae-9c70-68eba0e05378",
   "metadata": {
    "jp-MarkdownHeadingCollapsed": true
   },
   "source": [
    "## JSON"
   ]
  },
  {
   "cell_type": "code",
   "execution_count": null,
   "id": "1fbd52df-e5bb-4eed-b294-888b62834c64",
   "metadata": {},
   "outputs": [],
   "source": []
  },
  {
   "cell_type": "markdown",
   "id": "32836d09-e80c-4430-bfff-beb7a14eed62",
   "metadata": {},
   "source": [
    "* JSON stands for JavaScript Object Notation.\n",
    "* The format was specified by Douglas Crockford.\n",
    "* It was designed for human-readable data interchange.\n",
    "* It has been extended from the JavaScript scripting language.\n",
    "* The filename extension is .json.\n",
    "* JSON Internet Media type is application/json.\n",
    "* The Uniform Type Identifier is public.json.\n"
   ]
  },
  {
   "cell_type": "markdown",
   "id": "7503b894-024f-4510-b079-aff017559f33",
   "metadata": {},
   "source": [
    "```json\n",
    "{\n",
    "     \"id\": \"01\",\n",
    "     \"language\": \"Java\",\n",
    "     \"edition\": \"third\",\n",
    "     \"author\": \"Herbert Schildt\"\n",
    "}\n",
    "```"
   ]
  },
  {
   "cell_type": "markdown",
   "id": "0d3acae3-0d7b-4250-96c1-97d29ab75c10",
   "metadata": {},
   "source": [
    "**JSON VS XML**   \n",
    "```json\n",
    "{\n",
    "   \"company\": Volkswagen,\n",
    "   \"name\": \"Vento\",\n",
    "   \"price\": 800000\n",
    "}\n",
    "```\n",
    "\n",
    "```xml\n",
    "<car>\n",
    "   <company>Volkswagen</company>\n",
    "   <name>Vento</name>\n",
    "   <price>800000</price>\n",
    "</car>\n",
    "```"
   ]
  },
  {
   "cell_type": "markdown",
   "id": "af98e2e9-f125-46cd-9383-a72595bcf445",
   "metadata": {},
   "source": [
    "**Data types**  \n",
    "1. **String**: Text enclosed in double quotes.\n",
    "2. **Number**: Any numerical value, including integers and floating-point numbers.\n",
    "3. **Object**: A collection of key-value pairs, with keys being strings.\n",
    "4. **Array**: An ordered list of values.\n",
    "5. **Boolean**: True or false values.\n",
    "6. **Null**: A special type that represents a null value."
   ]
  },
  {
   "cell_type": "markdown",
   "id": "e6272da5-a3c4-4ed3-baac-454bd9a628f8",
   "metadata": {},
   "source": [
    "```json\n",
    "{\n",
    "  \"string\": \"Hello, World!\",\n",
    "  \"number_integer\": 123,\n",
    "  \"number_float\": 456.78,\n",
    "  \"object\": {\n",
    "    \"nested_string\": \"Nested Hello\",\n",
    "    \"nested_number\": 42\n",
    "  },\n",
    "  \"array\": [1, \"two\", 3.0, {\"key\": \"value\"}, true],\n",
    "  \"boolean_true\": true,\n",
    "  \"boolean_false\": false,\n",
    "  \"null_value\": null\n",
    "}\n",
    "```"
   ]
  },
  {
   "cell_type": "markdown",
   "id": "d2fa5a2e-96aa-4dd1-80ce-333f0a040c75",
   "metadata": {},
   "source": [
    "**JSON Array**  \n",
    "```json\n",
    "[\n",
    "    {\n",
    "        \"Trip ID\":913460,\n",
    "        \"Duration\":765,\n",
    "        \"Start Date\":\"8\\/31\\/2015 23:26\",\n",
    "        \"Start Station\":\"Harry Bridges Plaza (Ferry Building)\",\n",
    "        \"Start Terminal\":50,\n",
    "        \"End Date\":\"8\\/31\\/2015 23:39\",\n",
    "        \"End Station\":\"San Francisco Caltrain (Townsend at 4th)\",\n",
    "        \"End Terminal\":70,\n",
    "        \"Bike #\":288,\n",
    "        \"Subscriber Type\":\"Subscriber\",\n",
    "        \"Zip Code\":\"2139\"\n",
    "    },\n",
    "    {\n",
    "        \"Trip ID\":913459,\n",
    "        \"Duration\":1036,\n",
    "        \"Start Date\":\"8\\/31\\/2015 23:11\",\n",
    "        \"Start Station\":\"San Antonio Shopping Center\",\n",
    "        \"Start Terminal\":31,\n",
    "        \"End Date\":\"8\\/31\\/2015 23:28\",\n",
    "        \"End Station\":\"Mountain View City Hall\",\n",
    "        \"End Terminal\":27,\n",
    "        \"Bike #\":35,\n",
    "        \"Subscriber Type\":\"Subscriber\",\n",
    "        \"Zip Code\":\"95032\"\n",
    "    },\n",
    "    {\n",
    "        \"Trip ID\":913455,\n",
    "        \"Duration\":307,\n",
    "        \"Start Date\":\"8\\/31\\/2015 23:13\",\n",
    "        \"Start Station\":\"Post at Kearny\",\n",
    "        \"Start Terminal\":47,\n",
    "        \"End Date\":\"8\\/31\\/2015 23:18\",\n",
    "        \"End Station\":\"2nd at South Park\",\n",
    "        \"End Terminal\":64,\n",
    "        \"Bike #\":468,\n",
    "        \"Subscriber Type\":\"Subscriber\",\n",
    "        \"Zip Code\":\"94107\"\n",
    "    }\n",
    "]\n",
    "```"
   ]
  },
  {
   "cell_type": "code",
   "execution_count": null,
   "id": "fbc8ac93-f9bc-43e2-80be-3dfe44631cdb",
   "metadata": {},
   "outputs": [],
   "source": [
    "import pandas as pd\n",
    "\n",
    "# Specify the path to your JSON file\n",
    "json_file_path = \"trimmed/trips_trimmed.json\"\n",
    "\n",
    "# Load the JSON data into a DataFrame\n",
    "df = pd.read_json(json_file_path)\n",
    "\n",
    "# Display the DataFrame\n",
    "df"
   ]
  },
  {
   "cell_type": "markdown",
   "id": "4890ddc7-f922-41d0-be10-bd1c640524dc",
   "metadata": {
    "jp-MarkdownHeadingCollapsed": true
   },
   "source": [
    "## YAML"
   ]
  },
  {
   "cell_type": "markdown",
   "id": "f818857d-f390-4bc5-9f4c-5917883471d5",
   "metadata": {},
   "source": [
    "* YAML is one of the most popular data serialization languages, and it is used mostly for writing configuration files.\n",
    "* The YAML recursive acronym stands for YAML Ain’t Markup Language"
   ]
  },
  {
   "cell_type": "markdown",
   "id": "cded249d-841c-49eb-9ef7-3345bfa6a5e1",
   "metadata": {},
   "source": [
    "**Basic YAML syntax**  \n",
    "\n",
    "* **Maps/Dictionaries** (YAML calls it mapping)\n",
    "The content of a mapping node is an unordered set of key/value node pairs, with the restriction that each of the keys is unique. YAML places no further restrictions on the nodes.\n",
    "* **Arrays/Lists** (YAML calls them sequences)\n",
    "The content of a sequence node is an ordered series of zero or more nodes. In particular, a sequence may contain the same node more than once. It could even contain itself.\n",
    "* **Literals** (Strings, numbers, boolean, etc.)\n",
    "The content of a scalar node is an opaque datum that can be presented as a series of zero or more Unicode characters.\n",
    "\n",
    "\n",
    "```yaml\n",
    "---\n",
    "# A sample yaml file\n",
    "company: spacelift\n",
    "domain:\n",
    " - devops\n",
    " - devsecops\n",
    "tutorial:\n",
    "  - yaml:\n",
    "      name: \"YAML Ain't Markup Language\"\n",
    "      type: awesome\n",
    "      born: 2001\n",
    "  - json:\n",
    "      name: JavaScript Object Notation\n",
    "      type: great\n",
    "      born: 2001\n",
    "  - xml:\n",
    "      name: Extensible Markup Language\n",
    "      type: good\n",
    "      born: 1996\n",
    "author: omkarbirade\n",
    "published: true\n",
    "```"
   ]
  },
  {
   "cell_type": "markdown",
   "id": "ab744c83-03f0-458e-9d22-463496effb2e",
   "metadata": {},
   "source": [
    "**JSON**  \n",
    "```json\n",
    "{\n",
    "  \"company\": \"spacelift\",\n",
    "  \"domain\": [\"devops\", \"devsecops\"],\n",
    "  \"tutorial\": [\n",
    "    {\n",
    "      \"yaml\": {\n",
    "        \"name\": \"YAML Ain't Markup Language\",\n",
    "        \"type\": \"awesome\",\n",
    "        \"born\": 2001\n",
    "      }\n",
    "    },\n",
    "    {\n",
    "      \"json\": {\n",
    "        \"name\": \"JavaScript Object Notation\",\n",
    "        \"type\": \"great\",\n",
    "        \"born\": 2001\n",
    "      }\n",
    "    },\n",
    "    {\n",
    "      \"xml\": {\n",
    "        \"name\": \"Extensible Markup Language\",\n",
    "        \"type\": \"good\",\n",
    "        \"born\": 1996\n",
    "      }\n",
    "    }\n",
    "  ],\n",
    "  \"author\": \"omkarbirade\",\n",
    "  \"published\": true\n",
    "}\n",
    "```"
   ]
  },
  {
   "cell_type": "markdown",
   "id": "7753e675-d913-4a1b-82dd-4f9eb26cf594",
   "metadata": {},
   "source": [
    "**XML**  \n",
    "```xml\n",
    "<root>\n",
    "    <company>spacelift</company>\n",
    "    <domain>devops</domain>\n",
    "    <domain>devsecops</domain>\n",
    "    <tutorials>\n",
    "        <yaml>\n",
    "            <name>YAML Ain't Markup Language</name>\n",
    "            <type>awesome</type>\n",
    "            <born>2001</born>\n",
    "        </yaml>\n",
    "        <json>\n",
    "            <name>JavaScript Object Notation</name>\n",
    "            <type>great</type>\n",
    "            <born>2001</born>\n",
    "        </json>\n",
    "        <xml>\n",
    "            <name>Extensible Markup Language</name>\n",
    "            <type>good</type>\n",
    "            <born>1996</born>\n",
    "        </xml>\n",
    "    </tutorials>\n",
    "    <author>omkarbirade</author>\n",
    "    <published>true</published>\n",
    "</root>\n",
    "```"
   ]
  },
  {
   "cell_type": "markdown",
   "id": "96fbf355-fc4b-43fc-9f71-b33514da7354",
   "metadata": {},
   "source": [
    "**Indentation**  \n",
    "```yaml\n",
    "tutorial:  #nesting level 1\n",
    "  - yaml:  #nesting level 2 (2 spaces used for indentation)\n",
    "      name: \"YAML Ain't Markup Language\" #string [literal] #nesting level 3 (4 spaces used for indentation)\n",
    "      type: awesome #string [literal]\n",
    "      born: 2001 #number [literal]\n",
    "```"
   ]
  },
  {
   "cell_type": "markdown",
   "id": "7b9d4f17-9d84-4c82-8a69-a1e5b977e734",
   "metadata": {},
   "source": [
    "**Mappings**  \n",
    "The content of a mapping node is an unordered set of key/value node pairs, with the restriction that each of the keys is unique  \n",
    "\n",
    "```yaml\n",
    "name: \"Ahmed\"\n",
    "country: \"Egypt\"\n",
    "sex: \"Male\"\n",
    "```"
   ]
  },
  {
   "cell_type": "markdown",
   "id": "4c195583-3a84-44f6-aa49-b8ed89e0ab23",
   "metadata": {},
   "source": [
    "**Arrays (sequences)**  \n",
    "The content of a sequence node is an ordered series of zero or more nodes. In particular, a sequence may contain the same node more than once. It could even contain itself  \n",
    "```yaml\n",
    "langauges:\n",
    "  - English\n",
    "  - Arabic\n",
    "  - Hindi\n",
    "```"
   ]
  },
  {
   "cell_type": "markdown",
   "id": "5534efdb-9f37-4638-8e51-25c6c54a876c",
   "metadata": {},
   "source": [
    "**Literals — Strings**  \n",
    "String literals in YAML do not need to be quoted. It is only important to quote them when they contain a value that can be mistaken for a special character  \n",
    "```yaml\n",
    "message1: YAML & JSON # breaks as a & is a special character\n",
    "message2: \"YAML & JSON\" # Works as the string is quoted\n",
    "```"
   ]
  },
  {
   "cell_type": "markdown",
   "id": "045a4872-f3ed-406a-91da-e7acf24a0967",
   "metadata": {},
   "source": [
    "**String blocks**  \n",
    "\n",
    "Single line:  \n",
    "```yaml\n",
    "message: >+\n",
    " This block line\n",
    " Will be interpreted as a single\n",
    " line with a newline character at the \n",
    " end\n",
    "```\n",
    "\n",
    "Multiline:  \n",
    "```yaml\n",
    "message: |\n",
    " this is\n",
    " a real multiline\n",
    " message\n",
    "```"
   ]
  },
  {
   "cell_type": "markdown",
   "id": "bca5e920-a4ad-4d24-a798-209011340451",
   "metadata": {},
   "source": [
    "**Comments**  \n",
    "\n",
    "```yaml\n",
    "---\n",
    "# Comments inside a YAML file can be added followed by the '#' character\n",
    "company: spacelift\n",
    "```"
   ]
  },
  {
   "cell_type": "markdown",
   "id": "b6571bbe-4999-4a58-8089-d689b240b4eb",
   "metadata": {},
   "source": [
    "**Documents**  \n",
    "The above YAML snippet is called a document. A single YAML file can have more than one document. Each document can be interpreted as a separate YAML file which means multiple documents can contain the same or duplicate keys which are not allowed in the same document.\n",
    "The beginning of a document is denoted by three hyphens ---.  \n",
    "Triple dots are used to end a YAML document without starting a new one ..."
   ]
  },
  {
   "cell_type": "markdown",
   "id": "f19bcec8-0282-4bf1-aee7-e0d52097f0b9",
   "metadata": {},
   "source": [
    "```yaml\n",
    "---\n",
    "# document 1\n",
    "codename: YAML\n",
    "name: YAML ain't markup language\n",
    "release: 2001\n",
    "\n",
    "---\n",
    "# document 2\n",
    "uses:\n",
    " - configuration language\n",
    " - data persistence\n",
    " - internet messaging\n",
    " - cross-language data sharing\n",
    "\n",
    "---\n",
    "# document 3\n",
    "company: spacelift\n",
    "domain:\n",
    " - devops\n",
    " - devsecops\n",
    "tutorial:\n",
    "   - name: yaml\n",
    "   - type: awesome\n",
    "   - rank: 1\n",
    "   - born: 2001\n",
    "author: omkarbirade\n",
    "published: true\n",
    "..."
   ]
  },
  {
   "cell_type": "markdown",
   "id": "e095d1e5-d1b7-4580-b91c-d70b21b8245d",
   "metadata": {},
   "source": [
    "**Schemas and Tags**  \n",
    "**Schemas** can be thought of as the way a parser resolves or understands nodes (values) present in a YAML file. There are primarily three default schemas in YAML:\n",
    "\n",
    "* **FailSafe** Schema understands only maps, sequences, and strings and is guaranteed to work with any YAML file.\n",
    "* **JSON schema** understands all types supported within JSON, including boolean, null, int, and float, as well as those in the FailSafe schema. \n",
    "* **Core schema** is an extension of the JSON schema, making it more human-readable supporting the same types but in multiple forms.  \n",
    "For example: 1. null | Null | NULL will all be resolved to the same type null, and true | True | TRUE will all be resolved to the same boolean value."
   ]
  },
  {
   "cell_type": "markdown",
   "id": "996c88ff-247e-4182-914e-423626e4899b",
   "metadata": {},
   "source": [
    "**Tags** can be thought of as types in YAML."
   ]
  },
  {
   "cell_type": "markdown",
   "id": "6c0e242f-e150-4c52-ac10-97a1470ee87d",
   "metadata": {},
   "source": [
    "```yaml\n",
    "---\n",
    "# A sample yaml file\n",
    "company: !!str spacelift\n",
    "domain:\n",
    " - !!str devops\n",
    " - !!str devsecops\n",
    "tutorial:\n",
    "   - name: !!str yaml\n",
    "   - type: !!str awesome\n",
    "   - rank: !!int 1\n",
    "   - born: !!int 2001\n",
    "author: !!str omkarbirade\n",
    "published: !!bool true\n",
    "```"
   ]
  },
  {
   "cell_type": "code",
   "execution_count": null,
   "id": "7a0eca1e-cfee-4185-abc7-422ce320ae8a",
   "metadata": {},
   "outputs": [],
   "source": [
    "import pandas as pd\n",
    "import yaml\n",
    "\n",
    "def flatten_dict_item(prefix, item):\n",
    "    \"\"\"Recursively flattens a dictionary item, adding a prefix.\"\"\"\n",
    "    if isinstance(item, dict):\n",
    "        for k, v in item.items():\n",
    "            yield from flatten_dict_item(f\"{prefix}.{k}\" if prefix else k, v)\n",
    "    elif isinstance(item, list):\n",
    "        for i, v in enumerate(item):\n",
    "            yield from flatten_dict_item(f\"{prefix}[{i}]\", v)\n",
    "    else:\n",
    "        yield (prefix, item)\n",
    "\n",
    "def flatten_yaml(data):\n",
    "    \"\"\"Flattens the YAML data into a list of dictionaries.\"\"\"\n",
    "    return [dict(flatten_dict_item(\"\", data))]\n",
    "\n",
    "def load_yaml_to_dataframe(yaml_file_path):\n",
    "    \"\"\"Loads YAML and converts it into a Pandas DataFrame.\"\"\"\n",
    "    with open(yaml_file_path, 'r') as file:\n",
    "        yaml_data = yaml.safe_load(file)\n",
    "    \n",
    "    # Flatten the YAML data\n",
    "    flattened_data = flatten_yaml(yaml_data)\n",
    "    \n",
    "    # Convert to DataFrame\n",
    "    df = pd.DataFrame(flattened_data)\n",
    "    return df\n",
    "\n",
    "# Specify the path to your YAML file\n",
    "yaml_file_path = 'trimmed/trips_trimmed.yaml'  # Replace with the actual path to your YAML file\n",
    "\n",
    "# Load the data into a DataFrame\n",
    "\n",
    "df = load_yaml_to_dataframe(yaml_file_path)\n",
    "df\n"
   ]
  },
  {
   "cell_type": "markdown",
   "id": "3741fd92-720f-42fb-8621-2a387fd61159",
   "metadata": {
    "jp-MarkdownHeadingCollapsed": true
   },
   "source": [
    "## What is the Problem?"
   ]
  },
  {
   "cell_type": "markdown",
   "id": "9a2a8bd1-8592-4441-9454-0c1738fd2ce0",
   "metadata": {},
   "source": [
    "There's no problem :)  \n",
    "But there are more features and more optimization for bid data analytics"
   ]
  },
  {
   "cell_type": "markdown",
   "id": "257c7a3f-83ed-4cee-bc8b-9eaa7e0a8354",
   "metadata": {},
   "source": [
    "* **Storage and Compression**\n",
    "* **Splittability**\n",
    "* **Performance Optimization**\n",
    "* **Schema Evolution and Data Types**"
   ]
  },
  {
   "cell_type": "markdown",
   "id": "098f0f1e-e70a-4d47-bd97-cb6f194b95d8",
   "metadata": {
    "jp-MarkdownHeadingCollapsed": true
   },
   "source": [
    "## Apache Avro"
   ]
  },
  {
   "cell_type": "markdown",
   "id": "f69c18c9-e59b-4853-97bf-e66d00bd4ae3",
   "metadata": {},
   "source": [
    "![](./images/avro.png)"
   ]
  },
  {
   "cell_type": "markdown",
   "id": "1ec67d57-40c8-4fa2-81de-712764ef4ac6",
   "metadata": {},
   "source": [
    "* Avro is a language-neutral data serialization system.\n",
    "* It can be processed by many languages (currently C, C++, C#, Java, Python, and Ruby).\n",
    "* Avro creates binary structured format that is both compressible and splittable. Hence it can be efficiently used as the input to Hadoop MapReduce jobs.\n",
    "* Avro provides rich data structures. For example, you can create a record that contains an array, an enumerated type, and a sub record. These datatypes can be created in any language, can be processed in Hadoop, and the results can be fed to a third language.\n",
    "* Avro schemas defined in JSON, facilitate implementation in the languages that already have JSON libraries.\n",
    "* Avro creates a self-describing file named Avro Data File, in which it stores data along with its schema in the metadata section.\n",
    "* Avro is also used in Remote Procedure Calls (RPCs). During RPC, client and server exchange schemas in the connection handshake.\n"
   ]
  },
  {
   "cell_type": "markdown",
   "id": "328e32f1-f105-4f47-a0e8-116796948f82",
   "metadata": {},
   "source": [
    "* **Schema-based Serialization**: Avro uses a schema to define the structure of the data, ensuring that both the data and its schema are stored together. This approach facilitates data validation and compatibility checks during data exchange.\n",
    "* **Compact and Efficient**: Avro's binary encoding is compact compared to text-based formats like JSON or XML. This leads to reduced storage requirements and faster data transmission, which is particularly beneficial for large datasets.\n",
    "* **Schema Evolution**: Avro supports schema evolution by allowing schemas to change over time without requiring data to be rewritten. It handles schema evolution gracefully, which is crucial for maintaining backward and forward compatibility.\n",
    "* **Dynamic Typing**: With Avro, data is dynamically typed. This flexibility makes it easier to handle complex data structures and ensures that applications in different programming languages can read and write Avro data seamlessly.\n",
    "* **No Overhead for Repeated Fields**: Unlike some formats that require repeated field names, Avro's serialization avoids such redundancy, further optimizing data storage and processing.\n",
    "* **Interoperability**: Avro is language-agnostic and supports interfaces for multiple programming languages, enhancing interoperability in distributed systems where applications in various languages need to share data.\n",
    "* **RPC Support**: Avro includes built-in support for remote procedure calls (RPC), which facilitates building networked services that can communicate efficiently.\n",
    "* **Efficient Data Compression**: Avro files can be compressed, providing additional storage savings and faster input/output operations while maintaining quick access to data.\n",
    "\n",
    "These features make Avro particularly well-suited for applications that require efficient data serialization and deserialization, compatibility across different systems, and support for evolving data schemas."
   ]
  },
  {
   "cell_type": "code",
   "execution_count": null,
   "id": "b02c0ce8-457b-44cf-90d3-81beca06c8cd",
   "metadata": {},
   "outputs": [],
   "source": [
    "!cat ./trimmed/trips_trimmed.avro"
   ]
  },
  {
   "cell_type": "code",
   "execution_count": null,
   "id": "473deb32-962d-42d4-b6d1-dda77562d3bc",
   "metadata": {},
   "outputs": [],
   "source": [
    "import fastavro\n",
    "import pandas as pd\n",
    "\n",
    "def avro_to_dataframe(avro_file_path):\n",
    "    # Open and read the Avro file\n",
    "    with open(avro_file_path, 'rb') as f:\n",
    "        # Use fastavro to read the records\n",
    "        reader = fastavro.reader(f)\n",
    "        records = [record for record in reader]\n",
    "    \n",
    "    # Convert the list of records to a pandas DataFrame\n",
    "    df = pd.DataFrame(records)\n",
    "    return df\n",
    "\n",
    "# Example usage\n",
    "avro_file_path = './trimmed/trips_trimmed.avro'  # Replace with your Avro file path\n",
    "df = avro_to_dataframe(avro_file_path)\n",
    "\n",
    "# Display the DataFrame\n",
    "df"
   ]
  },
  {
   "cell_type": "markdown",
   "id": "49e530a0-e571-4f97-a9a6-c5cdf646ec33",
   "metadata": {},
   "source": [
    "\n",
    "| Feature                   | Avro                                    | CSV                                   | JSON                                  |\n",
    "|---------------------------|-----------------------------------------|---------------------------------------|---------------------------------------|\n",
    "| **Data Encoding**         | Binary                                  | Text                                  | Text                                  |\n",
    "| **Schema Support**        | Yes; strong schema support with evolution | No schema                             | Optional schema (self-describing)     |\n",
    "| **Data Compression**      | Built-in compression support            | No built-in compression               | Can be compressed externally         |\n",
    "| **Readability**           | Not human-readable (binary format)      | Human-readable                        | Human-readable                        |\n",
    "| **File Size**             | Compact (due to binary encoding)        | Generally larger for complex data    | Larger than binary; depends on data   |\n",
    "| **Interoperability**      | High, with language agnostic libraries  | High, universal format                | High, universal format                |\n",
    "| **Serialization/Deserialization Speed** | Fast (optimized for performance) | Fast for simple data, slower for complex parsing | Slower due to parsing overhead       |\n",
    "| **Schema Evolution**      | Strong support for backward/forward compatibility | N/A                                  | Basic if using schema tools           |\n",
    "| **Nested Data Support**   | Full support for complex data types     | Limited; complex structures require creativity | Full support through dictionaries and lists |\n",
    "| **Data Validation**       | Schema ensures validation               | No built-in validation; needs custom code | No built-in validation; needs custom code |\n",
    "| **Use Case**              | Ideal for large-scale data processing and storage, with diverse and changing schemas | Suitable for simple, flat data structures | Commonly used for APIs and web applications, flexible structure |\n",
    "| **Tooling and Libraries** | Strong support across multiple platforms (Java, Python, etc.) | Widely supported in various tools and libraries | Widely supported, especially in web development |\n",
    "| **Support for Remote Procedure Calls (RPC)** | Yes, built-in RPC support           | No                                    | No                                    |"
   ]
  },
  {
   "cell_type": "code",
   "execution_count": null,
   "id": "b1fca9bc-5f9e-46f2-a795-0af859d75d2a",
   "metadata": {},
   "outputs": [],
   "source": [
    "# Example showing schema evolution\n",
    "import fastavro\n",
    "from io import BytesIO\n",
    "\n",
    "# Initial schema (the writer's schema)\n",
    "writer_schema = {\n",
    "    \"type\": \"record\",\n",
    "    \"name\": \"User\",\n",
    "    \"fields\": [\n",
    "        {\"name\": \"name\", \"type\": \"string\"},\n",
    "        {\"name\": \"age\", \"type\": \"int\"}\n",
    "    ]\n",
    "}\n",
    "\n",
    "# Evolved schema (the reader's schema with an additional field)\n",
    "reader_schema = {\n",
    "    \"type\": \"record\",\n",
    "    \"name\": \"User\",\n",
    "    \"fields\": [\n",
    "        {\"name\": \"name\", \"type\": \"string\"},\n",
    "        {\"name\": \"age\", \"type\": \"int\"},\n",
    "        {\"name\": \"email\", \"type\": [\"null\", \"string\"], \"default\": None}  # New field with default value\n",
    "    ]\n",
    "}\n",
    "\n",
    "# Data that conforms to the initial schema\n",
    "users = [\n",
    "    {\"name\": \"Alice\", \"age\": 30},\n",
    "    {\"name\": \"Bob\", \"age\": 25}\n",
    "]\n",
    "\n",
    "# Write the data using the writer's schema\n",
    "bytes_writer = BytesIO()\n",
    "fastavro.writer(bytes_writer, writer_schema, users)\n",
    "bytes_writer.seek(0)\n",
    "\n",
    "# Read the data using the evolved reader's schema\n",
    "bytes_reader = BytesIO(bytes_writer.getvalue())\n",
    "reader = fastavro.reader(bytes_reader, reader_schema)\n",
    "\n",
    "# Print the records with the evolved schema\n",
    "for user in reader:\n",
    "    print(user)"
   ]
  },
  {
   "cell_type": "code",
   "execution_count": null,
   "id": "9b4032b6-82b9-49bf-8d92-5622f7305b45",
   "metadata": {},
   "outputs": [],
   "source": [
    "# Same example showing schema evolution failure with JSON format\n",
    "import json\n",
    "\n",
    "# Initial data (writer's schema)\n",
    "users_json = [\n",
    "    {\"name\": \"Alice\", \"age\": 30},\n",
    "    {\"name\": \"Bob\", \"age\": 25}\n",
    "]\n",
    "\n",
    "# Serialize to JSON\n",
    "json_data = json.dumps(users_json)\n",
    "print(\"Serialized JSON:\", json_data)\n",
    "\n",
    "\n",
    "#### Attempting to Read with an Evolved Schema\n",
    "\n",
    "# Evolved schema expectation\n",
    "# Here, we expect also an \"email\" field\n",
    "\n",
    "try:\n",
    "    # Deserialize the JSON data\n",
    "    deserialized_data = json.loads(json_data)\n",
    "    \n",
    "    # Attempt to access the new field, which doesn't exist in the data\n",
    "    for user in deserialized_data:\n",
    "        print(f\"Name: {user['name']}, Age: {user['age']}, Email: {user['email']}\")\n",
    "except KeyError as e:\n",
    "    print(f\"Error: Missing expected field - {e}\")"
   ]
  },
  {
   "cell_type": "code",
   "execution_count": null,
   "id": "d749d5c2-a50f-4a29-8a51-b9e3392c9f69",
   "metadata": {},
   "outputs": [],
   "source": []
  },
  {
   "cell_type": "markdown",
   "id": "b90fce8e-a068-44f4-987e-2237f31af6a1",
   "metadata": {
    "jp-MarkdownHeadingCollapsed": true
   },
   "source": [
    "## Apache ORC"
   ]
  },
  {
   "cell_type": "markdown",
   "id": "5c2bf0c2-1271-4b56-8489-21308063d8a8",
   "metadata": {},
   "source": [
    "![](./images/orc.png)"
   ]
  },
  {
   "cell_type": "markdown",
   "id": "1141f464-d14d-4ff0-bf6d-2324c0532fa6",
   "metadata": {},
   "source": [
    "### What is Columnar Data Stores?"
   ]
  },
  {
   "cell_type": "markdown",
   "id": "b18d30b3-58c4-4dfc-b95a-5469299b18bc",
   "metadata": {},
   "source": [
    "* **Columnar Storage**: \n",
    "  * ORC stores data in a columnar format, allowing efficient data compression and retrieval. Each column is stored separately, which optimizes analytics and read operations.\n",
    "* **Efficient Compression**:\n",
    "  * Supports various compression codecs such as ZLIB, Snappy, and LZO. This reduces storage requirements and speeds up data reading by reducing I/O operations.\n",
    "* **Predicate Pushdown**:\n",
    "  * Implemented to allow query engines to push filters down to the storage layer, reducing the amount of data that needs to be read and transferred.\n",
    "* **Lightweight Metadata**:\n",
    "  * Contains stripe-level statistics that allow quick navigation and data skipping, enhancing performance by avoiding unnecessary reads.\n",
    "* **Stripe Structure**:\n",
    "  * Each ORC file is divided into large stripes (typically 64 MB), which contain a collection of row groups. This segmentation supports parallel processing of data.\n",
    "* **Indexing and Statistics**:\n",
    "  * Includes built-in indices (min/max values, bloom filters) for columns to enable fast search and retrieval. Additional statistics per column aid in query optimization.\n",
    "* **Splittable Files**:\n",
    "  * Designed to be splittable at stripe boundaries, enabling distributed processing frameworks like Apache Hive and Apache Spark to efficiently process file parts in parallel.\n",
    "* **Data Types Support**:\n",
    "  * Supports a wide range of data types, including primitive types (int, float, string) and complex types (arrays, maps, structs), making it versatile for various data models.\n",
    "* **Schema Evolution**:\n",
    "  * Supports schema evolution, allowing changes to the dataset's schema without the need to rewrite the entire file, facilitating flexible data application development.\n",
    "* **ACID Compliance**:\n",
    "  * Enhanced support for ACID transactions when integrated with Hive, enabling robust data management capabilities such as inserts, updates, and deletes.\n",
    "* **Efficient Reading and Writing**:\n",
    "  * Optimized reader and writer code paths to ensure high throughput and low-latency access to the data, supporting efficient serialization and deserialization.\n",
    "* **Time Zone Information**:\n",
    "  * The format includes mechanisms to preserve accurate data in terms of timestamps and time zones, ensuring consistency across different systems.\n"
   ]
  },
  {
   "attachments": {
    "8c3498c0-a3a8-4993-abc1-1eb1218377ff.png": {
     "image/png": "[encoded data removed]"
    }
   },
   "cell_type": "markdown",
   "id": "44e6918c-444a-4591-a37f-c314e69f81dd",
   "metadata": {},
   "source": [
    "![OrcFileLayout.png](attachment:8c3498c0-a3a8-4993-abc1-1eb1218377ff.png)"
   ]
  },
  {
   "cell_type": "code",
   "execution_count": null,
   "id": "d09c4c0a-c215-4162-a19c-eafe252f4f97",
   "metadata": {},
   "outputs": [],
   "source": [
    "import pyarrow.orc as orc\n",
    "import pyarrow as pa\n",
    "\n",
    "# Function to load an ORC file into a Pandas DataFrame\n",
    "def load_orc_to_dataframe(file_path):\n",
    "    # Open the ORC file with pyarrow\n",
    "    with pa.memory_map(file_path, 'r') as source:\n",
    "        orc_file = orc.ORCFile(source)\n",
    "        \n",
    "        # Read the ORC file into a pyarrow Table\n",
    "        table = orc_file.read()\n",
    "\n",
    "    # Convert the pyarrow Table to a Pandas DataFrame\n",
    "    dataframe = table.to_pandas()\n",
    "    \n",
    "    return dataframe\n",
    "\n",
    "# Specify the path to your ORC file\n",
    "orc_file_path = 'trimmed/trips_trimmed.orc'\n",
    "\n",
    "# Load the ORC file into a DataFrame\n",
    "df = load_orc_to_dataframe(orc_file_path)\n",
    "\n",
    "# Display the DataFrame\n",
    "df"
   ]
  },
  {
   "cell_type": "code",
   "execution_count": null,
   "id": "937f47d0-e72b-4230-81f6-f1fec9feb2a7",
   "metadata": {},
   "outputs": [],
   "source": [
    "import pyarrow.orc as orc\n",
    "import pyarrow as pa\n",
    "import fastavro\n",
    "import pandas as pd\n",
    "import time\n",
    "\n",
    "def load_orc_to_dataframe(file_path):\n",
    "    with pa.memory_map(file_path, 'r') as source:\n",
    "        orc_file = orc.ORCFile(source)\n",
    "        table = orc_file.read()\n",
    "    return table.to_pandas()\n",
    "\n",
    "def load_avro_to_dataframe(file_path):\n",
    "    with open(file_path, 'rb') as f:\n",
    "        reader = fastavro.reader(f)\n",
    "        records = [record for record in reader]\n",
    "    return pd.DataFrame(records)\n",
    "\n",
    "# Assuming 'data.orc' and 'data.avro' contain the same data\n",
    "orc_file_path = 'trips.orc'\n",
    "avro_file_path = 'trips.avro'\n",
    "\n",
    "# Measure the time taken to load and process the ORC file\n",
    "start_time = time.time()\n",
    "orc_df = load_orc_to_dataframe(orc_file_path)\n",
    "orc_duration = time.time() - start_time\n",
    "print(f\"ORC Read Time: {orc_duration:.4f} seconds\")\n",
    "\n",
    "# Measure the time taken to load and process the Avro file\n",
    "start_time = time.time()\n",
    "avro_df = load_avro_to_dataframe(avro_file_path)\n",
    "avro_duration = time.time() - start_time\n",
    "print(f\"Avro Read Time: {avro_duration:.4f} seconds\")\n",
    "\n",
    "# Simple comparison of dataframes (this step is merely illustrative)\n",
    "print(\"DataFrames are equal:\", orc_df.equals(avro_df))\n",
    "\n",
    "# Display the first few rows of both dataframes\n",
    "print(\"ORC DataFrame head:\")\n",
    "print(orc_df.head())\n",
    "\n",
    "print(\"Avro DataFrame head:\")\n",
    "print(avro_df.head())"
   ]
  },
  {
   "cell_type": "markdown",
   "id": "3f63432f-240d-42f8-a816-5eb82414d437",
   "metadata": {},
   "source": [
    "## Apache Parquet"
   ]
  },
  {
   "attachments": {},
   "cell_type": "markdown",
   "id": "bc1f1007-244c-4393-b2de-c7d800ea4543",
   "metadata": {},
   "source": [
    "![parquet.png](./images/parquet.png)"
   ]
  },
  {
   "cell_type": "markdown",
   "id": "89ec7cd3-8fa8-4b89-aad3-9177e9389161",
   "metadata": {},
   "source": [
    "Apache Parquet is a columnar storage file format designed for efficient data processing and storage, particularly within the Hadoop ecosystem. It is widely used for big data processing due to its efficient storage mechanisms. Here are comprehensive bullet points detailing its format specifications:\n",
    "\n",
    "* **Columnar Storage**:\n",
    "  * Parquet organizes data in a columnar format, which allows for efficient compression and encoding, particularly benefiting read-heavy operations typical in analytics.\n",
    "* **Efficient Compression**:\n",
    "  * Supports various compression techniques like Snappy, GZIP, LZO, and Brotli. Columnar compression enhances storage efficiency and can significantly speed up read operations by reducing I/O.\n",
    "* **Predicate Pushdown Optimization**:\n",
    "  * Allows filtering operations to be pushed down to the storage layer, reducing I/O by selecting only relevant parts of the data during query execution.\n",
    "* **Schema Evolution**:\n",
    "  * Supports backward-compatible schema evolution. You can add new columns or remove old ones without rewriting the entire file, though changing column types might require more effort.\n",
    "* **Data Encoding**:\n",
    "  * Implements efficient encoding schemes like Run Length Encoding (RLE), Dictionary Encoding, Delta Encoding, and Bit Packing to minimize storage space and improve read times.\n",
    "* **Splittable Files**:\n",
    "  * Parquet files are splittable, which means large files can be read by parallel processes, optimizing performance for distributed data processing frameworks like Apache Spark.\n",
    "* **Data Types Support**:\n",
    "  * Offers strong support for complex nested data types, including structs, maps, and lists, accommodating sophisticated data models.\n",
    "* **Rich Metadata**:\n",
    "  * Embeds metadata at multiple levels (file, row group, column chunk, and page level) including min/max statistics which enable efficient data access and robust schema management.\n",
    "* **Compression Codecs Specification**:\n",
    "  * Allows specifying different compression codecs for different columns, optimizing storage and processing based on the column characteristics.\n",
    "* **Support for Various Data Models**:\n",
    "  * Parquet's architecture integrates well with different computation frameworks and data models, including Avro, Thrift, Protocol Buffers, and others, enhancing its versatility.\n",
    "* **Efficient Read and Write Operations**:\n",
    "  * Enables fast sequential reads and writes due to its sophisticated index and metadata, allowing for quick access to necessary data while skipping irrelevant parts.\n",
    "* **Interoperability**:\n",
    "  * Widely compatible with multiple data processing engines like Apache Hadoop, Apache Spark, and Apache Hive, and supported in several languages such as Java, C++, Python, etc.\n",
    "* **Data Corruption Checks**:\n",
    "  * Contains checksums for data pages which help in ensuring data integrity and detecting corruption during data read operations.\n",
    "* **Time Zone Handling**:\n",
    "  * Supports storing timestamps with time zone information, allowing consistent temporal data analysis across different environments.\n",
    "* **Support for Alternative Encoding**:\n",
    "  * Parquet supports multiple encoding strategies within the same file, providing flexibility based on the data characteristics and workload requirements."
   ]
  },
  {
   "attachments": {
    "578d1f39-649f-4c18-926c-df87c5cbfd59.gif": {
     "image/gif": "[encoded data removed]"
    }
   },
   "cell_type": "markdown",
   "id": "73d594be-b1ff-4baf-9666-2a1666274108",
   "metadata": {},
   "source": [
    "![ParquetFileLayout.gif](attachment:578d1f39-649f-4c18-926c-df87c5cbfd59.gif)"
   ]
  },
  {
   "cell_type": "code",
   "execution_count": null,
   "id": "87c42078-0aba-440b-bea6-55ffb31c4d8a",
   "metadata": {},
   "outputs": [],
   "source": [
    "import pyarrow.parquet as pq\n",
    "import pandas as pd\n",
    "\n",
    "# Function to load a Parquet file into a Pandas DataFrame\n",
    "def load_parquet_to_dataframe(file_path):\n",
    "    # Read the Parquet file into a PyArrow Table\n",
    "    table = pq.read_table(file_path)\n",
    "\n",
    "    # Convert the PyArrow Table to a Pandas DataFrame\n",
    "    dataframe = table.to_pandas()\n",
    "\n",
    "    return dataframe\n",
    "\n",
    "# Specify the path to your Parquet file\n",
    "parquet_file_path = 'trimmed/trips_trimmed.parquet'\n",
    "\n",
    "# Load the Parquet file into a DataFrame\n",
    "df = load_parquet_to_dataframe(parquet_file_path)\n",
    "\n",
    "# Display the first few rows of the DataFrame\n",
    "df"
   ]
  },
  {
   "cell_type": "markdown",
   "id": "412b7633-75b4-443d-af0e-7a8ad03bbb69",
   "metadata": {},
   "source": [
    "**Key advatnages of Parquet over ORC**  \n",
    "1. **Broad Ecosystem Support**: Parquet is widely supported by several big data tools and platforms, enhancing its versatility for integration and interoperability.\n",
    "2. **Non-Hadoop Compatibility**: Parquet is frequently chosen in environments that go beyond traditional Hadoop systems, making it a favorite for more diverse technical landscapes.\n",
    "3. **Encoding and Compression**: Parquet’s efficient encoding and compression techniques can lead to performance advantages, particularly when dealing with analytical workloads.\n",
    "4. **Schema Evolution**: Parquet provides flexible schema evolution capabilities, allowing more seamless data management and integration over time.\n",
    "5. **Support for Nested Data**: Parquet excels in handling nested data structures, making it suitable for more complex data formats like JSON.\n",
    "6. **Optimizations for Columnar Storage**: Parquet is optimized for columnar storage systems, aligning naturally with many SQL-based analytics engines."
   ]
  },
  {
   "cell_type": "markdown",
   "id": "e480d4cf-93b0-4060-80b1-47c322cd698d",
   "metadata": {},
   "source": [
    "| Feature/Property     | JSON                          | Avro                               | ORC                                | Parquet                             |\n",
    "|----------------------|-------------------------------|------------------------------------|------------------------------------|-------------------------------------|\n",
    "| **Data Model**       | Text-based, human-readable    | Row-based, schema-oriented         | Columnar                           | Columnar                            |\n",
    "| **Schema**           | Self-describing               | Required, with strong schema       | Strong schema with partial evolution | Strong schema with evolution        |\n",
    "| **Schema Evolution** | Challenging                   | Robust support; backward/forward compatibility | Limited (e.g., adding columns)     | Good support for schema evolution   |\n",
    "| **Compression**      | Not inherent, external tools  | Optional, efficient with codecs    | Built-in, suited for columnar data | Built-in, suited for columnar data  |\n",
    "| **Use Case**         | Configuration; data interchange | Messaging; schema evolution       | Large-scale analytics              | Large-scale analytics               |\n",
    "| **Read/Write Performance** | Slow for large datasets | Fast for Avro-specific systems     | Optimized for reads, decent writes | Optimized for reads, decent writes  |\n",
    "| **File Size**        | Typically larger              | Compact due to binary encoding     | Highly compressed due to columnar design | Highly compressed due to columnar design |\n",
    "| **Support for Nested/Complex Data** | Limited (via arrays/objects) | Good (supports nested data)       | Excellent (natively supports nested structures) | Excellent (supports nested structures) |\n",
    "| **Tool Integration** | Widely supported, universal   | Supported by many Hadoop tools     | Supported by Hadoop ecosystem      | Supported by Hadoop ecosystem       |\n",
    "| **Interoperability** | High                          | Good, with Avro-specific tools     | Primarily within Hadoop ecosystem  | Primarily within Hadoop ecosystem   |\n",
    "| **Readability**      | High, human-readable          | Low, binary format                 | Low, binary format                 | Low, binary format                  |\n",
    "| **Data Validation**  | Minimal                       | Strong, due to schema requirement  | Strong, due to schema requirement  | Strong, due to schema requirement   |\n",
    "| **Data Integrity**   | Limited                       | Good support for validations       | Strong checksums and validations   | Strong checksums and validations    |\n",
    "| **Transactional Support** | None                    | Good integration (e.g., with Kafka) | Supports ACID transactions with Hive | Often used with transactional systems |"
   ]
  },
  {
   "cell_type": "markdown",
   "id": "7fec0483-9153-4d23-87d5-cf5c6a961593",
   "metadata": {},
   "source": [
    "| Feature/Aspect       | Avro                                | ORC                                 | Parquet                              |\n",
    "|----------------------|-------------------------------------|-------------------------------------|--------------------------------------|\n",
    "| **Primary Use Case** | Data interchange, streaming, serialization | Big data analytics, read-optimized tasks | Big data analytics, multi-tool compatibility |\n",
    "| **When to Use**      | - When you need efficient serialization/deserialization<br>- Schema evolution is crucial<br>- Data is frequently added or modified<br>- Integration with streaming platforms (e.g., Kafka) | - When optimizing for read-heavy operations<br>- Large-scale analytical queries<br>- Need strong compression for storage efficiency<br>- Working within Hadoop ecosystem | - When using mixed data processing frameworks<br>- Want high efficiency in distributed environments (e.g., Spark, Hive)<br>- Need robust compression and encoding<br>- When analytics require partial data reads |\n",
    "| **When Not to Use**  | - For purely analytical purposes (less efficient in querying)<br>- When compression efficiency is paramount<br>- Purely read-heavy workloads | - For high-frequency writes due to lesser write efficiency<br>- When schema evolution and flexibility are needed<br>- Small datasets where overhead isn’t justified | - When schema evolution flexibility is critical<br>- Real-time processing requiring rapid writes<br>- Small-scale, dynamic, constantly-changing data tasks |\n",
    "| **Supported Compression** | Yes (Snappy, Deflate)            | Advanced codecs (ZLIB, Snappy, LZO) | Multiple codecs (Snappy, GZIP, Brotli) |\n",
    "| **Schema Evolution Support** | Extensive (add/remove columns, change data types) | Limited (primarily adding columns)  | Good (limited to structural changes) |\n",
    "| **Integration and Compatibility** | Wide compatibility, including Hadoop and Kafka | Deep integration with Hadoop tools  | Broad compatibility across big data tools |\n",
    "| **Read/Write Performance** | Fast serialization/deserialization | Optimized for reads, efficient storage | Optimized for reads, supported by various analytical tools |\n",
    "| **Complex Data Handling** | Supports complex/nested data types | Excellent support for complex/nested structures | Excellent support for complex/nested structures |\n",
    "| **File Size Efficiency** | Compact due to binary format, but less than ORC/Parquet | Highly efficient due to columnar compression | Highly efficient due to columnar compression |\n",
    "| **Stream Processing** | Well-suited due to row-based design | Less suitable due to columnar nature | Less suitable due to columnar nature |\n",
    "| **Key Advantages**   | - Schema evolution<br>- Fast read/write for row-based operations<br>- Ideal for streaming<br>- Good data integrity | - High read performance<br>- Efficient space utilization<br>- Supports complex data models<br>- Robust metadata | - High compatibility<br>- Efficient for various query engines<br>- Powerful meta-data support<br>- Balanced read/write performance |"
   ]
  },
  {
   "cell_type": "code",
   "execution_count": null,
   "id": "906321f8-874f-4ff8-8fb9-99cc413d9a5c",
   "metadata": {},
   "outputs": [],
   "source": [
    "import pyarrow as pa\n",
    "import pyarrow.orc as orc\n",
    "import pyarrow.parquet as pq\n",
    "import os\n",
    "\n",
    "# Function to display schema details\n",
    "def display_schema_details(table, format_name):\n",
    "    print(f\"\\n{format_name} Schema:\")\n",
    "    print(table.schema)\n",
    "    print(f\"\\n{format_name} Column Names:\")\n",
    "    print(table.column_names)\n",
    "    print(f\"\\n{format_name} Number of Columns:\")\n",
    "    print(table.num_columns)\n",
    "    print(f\"\\n{format_name} Number of Rows:\")\n",
    "    print(table.num_rows)\n",
    "\n",
    "# Read ORC file\n",
    "orc_file = 'trips.orc'\n",
    "orc_table = orc.read_table(orc_file)\n",
    "\n",
    "# Read Parquet file\n",
    "parquet_file = 'trips.parquet'\n",
    "parquet_table = pq.read_table(parquet_file)\n",
    "\n",
    "# Display schema and some characteristics\n",
    "display_schema_details(orc_table, \"ORC\")\n",
    "display_schema_details(parquet_table, \"Parquet\")\n",
    "\n",
    "# Display file size from the filesystem to understand the compression impact.\n",
    "orc_file_size = os.path.getsize(orc_file)\n",
    "parquet_file_size = os.path.getsize(parquet_file)\n",
    "\n",
    "print(f\"\\nORC File Size: {orc_file_size} bytes\")\n",
    "print(f\"Parquet File Size: {parquet_file_size} bytes\")\n"
   ]
  },
  {
   "cell_type": "code",
   "execution_count": null,
   "id": "285dff02-ee17-408f-a99b-e1d70b97c4a9",
   "metadata": {},
   "outputs": [],
   "source": [
    "# Splitting Parquet\n",
    "\n",
    "import pandas as pd\n",
    "import pyarrow as pa\n",
    "import pyarrow.parquet as pq\n",
    "import os\n",
    "\n",
    "# Define the path to your CSV file\n",
    "csv_file_path = 'trips.csv'\n",
    "\n",
    "# Load the CSV file into a Pandas DataFrame\n",
    "df = pd.read_csv(csv_file_path)\n",
    "\n",
    "# Optionally, inspect the DataFrame\n",
    "print(df.head())\n",
    "print(df.dtypes)\n",
    "\n",
    "# Define the directory where you want to save the partitioned Parquet files\n",
    "output_dir = 'output_parquet'\n",
    "os.makedirs(output_dir, exist_ok=True)\n",
    "\n",
    "# Convert the Pandas DataFrame to a PyArrow Table\n",
    "table = pa.Table.from_pandas(df)\n",
    "\n",
    "# You can specify the column(s) by which you want to partition the Parquet files\n",
    "partition_columns = ['Bike #']  # Replace with your actual column name(s)\n",
    "\n",
    "# Write the table to Parquet files, partitioned by the specified column\n",
    "pq.write_to_dataset(\n",
    "    table=table,\n",
    "    root_path=output_dir,\n",
    "    partition_cols=partition_columns\n",
    ")\n",
    "\n",
    "print(\"Data successfully written as partitioned Parquet files.\")"
   ]
  },
  {
   "cell_type": "markdown",
   "id": "aca52f5f-0bb1-4126-9ec5-cfff4bc934b6",
   "metadata": {},
   "source": [
    "**Use `parquet-tools` to inspect parquet**  "
   ]
  },
  {
   "cell_type": "code",
   "execution_count": null,
   "id": "7b60e7a0-be31-4816-ba01-aa966ec74316",
   "metadata": {},
   "outputs": [],
   "source": [
    "!pip install parquet-tools --break-system-packages"
   ]
  },
  {
   "cell_type": "code",
   "execution_count": null,
   "id": "21c2c474-14fd-4e46-aca5-4d015b5f7d12",
   "metadata": {},
   "outputs": [],
   "source": [
    "!parquet-tools show --head 10 ./output_parquet/*/*.parquet"
   ]
  },
  {
   "cell_type": "code",
   "execution_count": null,
   "id": "50cffb6e-ed6d-4260-9488-3e94c927752e",
   "metadata": {},
   "outputs": [],
   "source": [
    "!parquet-tools inspect \"./output_parquet/Bike #=10/0c9527a1036342239dd557156d1a0281-0.parquet\""
   ]
  },
  {
   "cell_type": "code",
   "execution_count": null,
   "id": "18b090a5-e34c-4e75-955c-dd4836a69710",
   "metadata": {},
   "outputs": [],
   "source": []
  }
 ],
 "metadata": {
  "kernelspec": {
   "display_name": "Python 3 (ipykernel)",
   "language": "python",
   "name": "python3"
  },
  "language_info": {
   "codemirror_mode": {
    "name": "ipython",
    "version": 3
   },
   "file_extension": ".py",
   "mimetype": "text/x-python",
   "name": "python",
   "nbconvert_exporter": "python",
   "pygments_lexer": "ipython3",
   "version": "3.11.2"
  }
 },
 "nbformat": 4,
 "nbformat_minor": 5
}
