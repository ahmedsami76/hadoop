{
 "cells": [
  {
   "cell_type": "code",
   "execution_count": null,
   "id": "6e2b57fb-b88f-485d-998d-fab992a6638c",
   "metadata": {},
   "outputs": [],
   "source": [
    "!pip install pyhive thrift thrift-sasl --break-system-packages"
   ]
  },
  {
   "cell_type": "code",
   "execution_count": 1,
   "id": "7381d08b-93f7-4718-b639-15d606c830a7",
   "metadata": {},
   "outputs": [],
   "source": [
    "from pyhive import hive"
   ]
  },
  {
   "cell_type": "code",
   "execution_count": 4,
   "id": "9b4e8718-ebb4-4acd-980d-28526c95c1ab",
   "metadata": {},
   "outputs": [],
   "source": [
    "conn = hive.Connection(host=\"localhost\", port=10000, database=\"flight_data\")"
   ]
  },
  {
   "cell_type": "code",
   "execution_count": 6,
   "id": "c837d9fe-1c0c-4c46-820f-0db7594ccd5b",
   "metadata": {},
   "outputs": [],
   "source": [
    "cursor = conn.cursor()\n",
    "cursor.execute(\"show tables\")"
   ]
  },
  {
   "cell_type": "code",
   "execution_count": 8,
   "id": "0ebde843-4f70-4709-9ba4-51f526744f49",
   "metadata": {},
   "outputs": [
    {
     "name": "stdout",
     "output_type": "stream",
     "text": [
      "('fd2010_external',)\n",
      "('fd2010_internal',)\n",
      "('fd2010_internal2',)\n"
     ]
    }
   ],
   "source": [
    "result = cursor.fetchall()\n",
    "for row in result:\n",
    "    print(row)"
   ]
  },
  {
   "cell_type": "code",
   "execution_count": null,
   "id": "6f38147e-378c-49a3-9595-6a458acb0fd5",
   "metadata": {},
   "outputs": [],
   "source": []
  }
 ],
 "metadata": {
  "kernelspec": {
   "display_name": "Python 3 (ipykernel)",
   "language": "python",
   "name": "python3"
  },
  "language_info": {
   "codemirror_mode": {
    "name": "ipython",
    "version": 3
   },
   "file_extension": ".py",
   "mimetype": "text/x-python",
   "name": "python",
   "nbconvert_exporter": "python",
   "pygments_lexer": "ipython3",
   "version": "3.11.2"
  }
 },
 "nbformat": 4,
 "nbformat_minor": 5
}
