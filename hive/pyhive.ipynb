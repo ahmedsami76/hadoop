{
 "cells": [
  {
   "cell_type": "code",
   "execution_count": 1,
   "id": "7381d08b-93f7-4718-b639-15d606c830a7",
   "metadata": {},
   "outputs": [],
   "source": [
    "from pyhive import hive"
   ]
  },
  {
   "cell_type": "code",
   "execution_count": 4,
   "id": "9b4e8718-ebb4-4acd-980d-28526c95c1ab",
   "metadata": {},
   "outputs": [],
   "source": [
    "conn = hive.Connection(host=\"localhost\", port=10000, database=\"flight_data\")"
   ]
  },
  {
   "cell_type": "code",
   "execution_count": 6,
   "id": "c837d9fe-1c0c-4c46-820f-0db7594ccd5b",
   "metadata": {},
   "outputs": [],
   "source": [
    "cursor = conn.cursor()\n",
    "cursor.execute(\"show tables\")"
   ]
  },
  {
   "cell_type": "code",
   "execution_count": null,
   "id": "0ebde843-4f70-4709-9ba4-51f526744f49",
   "metadata": {},
   "outputs": [],
   "source": [
    "result "
   ]
  }
 ],
 "metadata": {
  "kernelspec": {
   "display_name": "Python 3 (ipykernel)",
   "language": "python",
   "name": "python3"
  },
  "language_info": {
   "codemirror_mode": {
    "name": "ipython",
    "version": 3
   },
   "file_extension": ".py",
   "mimetype": "text/x-python",
   "name": "python",
   "nbconvert_exporter": "python",
   "pygments_lexer": "ipython3",
   "version": "3.11.2"
  }
 },
 "nbformat": 4,
 "nbformat_minor": 5
}
